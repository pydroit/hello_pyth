{
 "cells": [
  {
   "cell_type": "code",
   "execution_count": 2,
   "id": "86516836-1771-4c82-a6de-c1cc44b86232",
   "metadata": {
    "tags": []
   },
   "outputs": [],
   "source": [
    "# import needed modules\n",
    "\n",
    "import findspark\n",
    "findspark.init()\n",
    "\n",
    "from pyspark.sql import SparkSession\n",
    "import pyspark.sql.functions as F\n",
    "import os\n",
    "import pandas as pd"
   ]
  },
  {
   "cell_type": "code",
   "execution_count": 3,
   "id": "9884fbd8-627f-4396-ba70-08532b0dd8b2",
   "metadata": {
    "tags": []
   },
   "outputs": [],
   "source": [
    "spark = (SparkSession.builder.appName(\"Pride and Prejudice word count\").\n",
    "           getOrCreate())"
   ]
  },
  {
   "cell_type": "code",
   "execution_count": null,
   "id": "8e9b6b6b-f57a-430b-903e-872ccea853b8",
   "metadata": {
    "tags": []
   },
   "outputs": [],
   "source": [
    "result = (spark.read.text(\"./1342-0.txt\").\n",
    "select(F.split(F.col(\"value\"), \" \").alias(\"split_word\")).\n",
    "select(F.explode(F.col(\"split_word\")).alias(\"explode_word\")).\n",
    "select(F.lower(F.col(\"explode_word\")).alias(\"lower_word\")).\n",
    "select(F.regexp_extract(F.col(\"lower_word\"), \"[a-z]*\", 0).alias(\"extract_word\")).\n",
    "where((F.col(\"extract_word\") != \"\")&(~F.col(\"extract_word\").isin('the', 'in'))&(F.length(F.col(\"extract_word\")) > 3)).\n",
    "groupby(F.col(\"extract_word\")).\n",
    "count()\n",
    ")\n",
    "#result.coalesce(1).write.csv(\"C:/Users/oluwa/Downloads/combined_words2.csv\")\n",
    "result.coalesce(1).write.csv(\"./combined_words3.csv\")"
   ]
  },
  {
   "cell_type": "code",
   "execution_count": null,
   "id": "f77889c0-c7d1-4595-a641-93c285a0e8e2",
   "metadata": {
    "tags": []
   },
   "outputs": [],
   "source": [
    "spark-submit \"C:/Users/oluwa/Downloads/spark_run01.py\"\n",
    "\n",
    "spark-submit C:\\Users\\oluwa\\Documents\\hello_pyth\\de-lab\\spark_run01_local.py"
   ]
  },
  {
   "cell_type": "code",
   "execution_count": null,
   "id": "c0ad0d04-b267-460c-b917-83e5a1444e85",
   "metadata": {
    "tags": []
   },
   "outputs": [],
   "source": [
    "result.show(5)"
   ]
  }
 ],
 "metadata": {
  "kernelspec": {
   "display_name": "Python 3 (ipykernel)",
   "language": "python",
   "name": "python3"
  },
  "language_info": {
   "codemirror_mode": {
    "name": "ipython",
    "version": 3
   },
   "file_extension": ".py",
   "mimetype": "text/x-python",
   "name": "python",
   "nbconvert_exporter": "python",
   "pygments_lexer": "ipython3",
   "version": "3.9.0"
  }
 },
 "nbformat": 4,
 "nbformat_minor": 5
}
