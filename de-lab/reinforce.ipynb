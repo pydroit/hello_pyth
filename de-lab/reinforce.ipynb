{
 "cells": [
  {
   "cell_type": "code",
   "execution_count": 32,
   "id": "86516836-1771-4c82-a6de-c1cc44b86232",
   "metadata": {
    "tags": []
   },
   "outputs": [],
   "source": [
    "import findspark\n",
    "findspark.init()"
   ]
  },
  {
   "cell_type": "code",
   "execution_count": 29,
   "id": "9884fbd8-627f-4396-ba70-08532b0dd8b2",
   "metadata": {
    "tags": []
   },
   "outputs": [],
   "source": [
    "spark = (SparkSession.builder.appName(\"Pride and Prejudice word count\").\n",
    "           getOrCreate())\n",
    "\n",
    "from pyspark.sql import SparkSession\n",
    "\n",
    "import pyspark.sql.functions as F "
   ]
  },
  {
   "cell_type": "code",
   "execution_count": 28,
   "id": "8e9b6b6b-f57a-430b-903e-872ccea853b8",
   "metadata": {
    "tags": []
   },
   "outputs": [],
   "source": [
    "result = (spark.read.text(\"C:/Users/oluwa/Downloads/1342-0.txt\").\n",
    "select(F.split(F.col(\"value\"), \" \").alias(\"split_word\")).\n",
    "select(F.explode(F.col(\"split_word\")).alias(\"explode_word\")).\n",
    "select(F.lower(F.col(\"explode_word\")).alias(\"lower_word\")).\n",
    "select(F.regexp_extract(F.col(\"lower_word\"), \"[a-z]*\", 0).alias(\"extract_word\")).\n",
    "where((F.col(\"extract_word\") != \"\")&(~F.col(\"extract_word\").isin('the', 'in'))&(F.length(F.col(\"extract_word\")) > 3)).\n",
    "groupby(F.col(\"extract_word\")).\n",
    "count()\n",
    ")\n",
    "result.coalesce(1).write.csv(\"C:/Users/oluwa/Downloads/combined_words2.csv\")\n",
    " "
   ]
  },
  {
   "cell_type": "code",
   "execution_count": 33,
   "id": "f77889c0-c7d1-4595-a641-93c285a0e8e2",
   "metadata": {
    "tags": []
   },
   "outputs": [
    {
     "ename": "SyntaxError",
     "evalue": "invalid syntax (2206864533.py, line 1)",
     "output_type": "error",
     "traceback": [
      "\u001b[1;36m  Cell \u001b[1;32mIn[33], line 1\u001b[1;36m\u001b[0m\n\u001b[1;33m    spark-submit \"C:/Users/oluwa/Downloads/spark_run01.py\"\u001b[0m\n\u001b[1;37m                 ^\u001b[0m\n\u001b[1;31mSyntaxError\u001b[0m\u001b[1;31m:\u001b[0m invalid syntax\n"
     ]
    }
   ],
   "source": [
    "spark-submit \"C:/Users/oluwa/Downloads/spark_run01.py\""
   ]
  },
  {
   "cell_type": "code",
   "execution_count": 26,
   "id": "c0ad0d04-b267-460c-b917-83e5a1444e85",
   "metadata": {
    "tags": []
   },
   "outputs": [
    {
     "name": "stdout",
     "output_type": "stream",
     "text": [
      "+------------+-----+\n",
      "|extract_word|count|\n",
      "+------------+-----+\n",
      "|      online|    5|\n",
      "|       those|   65|\n",
      "|        some|  207|\n",
      "|     insipid|    2|\n",
      "|       still|   76|\n",
      "+------------+-----+\n",
      "only showing top 5 rows\n",
      "\n"
     ]
    }
   ],
   "source": [
    "result.show(5)"
   ]
  }
 ],
 "metadata": {
  "kernelspec": {
   "display_name": "Python 3 (ipykernel)",
   "language": "python",
   "name": "python3"
  },
  "language_info": {
   "codemirror_mode": {
    "name": "ipython",
    "version": 3
   },
   "file_extension": ".py",
   "mimetype": "text/x-python",
   "name": "python",
   "nbconvert_exporter": "python",
   "pygments_lexer": "ipython3",
   "version": "3.9.0"
  }
 },
 "nbformat": 4,
 "nbformat_minor": 5
}
