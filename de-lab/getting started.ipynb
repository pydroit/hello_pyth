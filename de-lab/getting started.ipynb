{
 "cells": [
  {
   "cell_type": "code",
   "execution_count": 1,
   "id": "46bd73b2-830e-4fe9-8f93-7cde90d463c3",
   "metadata": {
    "tags": []
   },
   "outputs": [
    {
     "name": "stdout",
     "output_type": "stream",
     "text": [
      "Hello World\n"
     ]
    }
   ],
   "source": [
    "print(\"Hello World\")"
   ]
  },
  {
   "cell_type": "code",
   "execution_count": 2,
   "id": "2c0729c3-48cd-48f4-bedf-2f71d2163a5a",
   "metadata": {
    "tags": []
   },
   "outputs": [],
   "source": [
    "people = {\n",
    "'htanaka': 'Haru Tanaka',\n",
    "'ppatel': 'Priya Patel',\n",
    "'bagarcia': 'Benjamin Alberto Garcia',\n",
    "'zmin': 'Zhang Min',\n",
    "'afarooqi': 'Ayesha Farooqi',\n",
    "'hajackson': 'Hanna Jackson',\n",
    "'papatel': 'Pratyush Aarav Patel',\n",
    "'hrjackson': 'Henry Jackson'\n",
    "}"
   ]
  },
  {
   "cell_type": "code",
   "execution_count": 3,
   "id": "1b3e80fc-296e-49e7-b14e-0b1129c8e83a",
   "metadata": {
    "tags": []
   },
   "outputs": [
    {
     "data": {
      "text/plain": [
       "'Zhang Min'"
      ]
     },
     "execution_count": 3,
     "metadata": {},
     "output_type": "execute_result"
    }
   ],
   "source": [
    "people['zmin']"
   ]
  },
  {
   "cell_type": "code",
   "execution_count": 4,
   "id": "0fe55a63-9ee2-4bb5-9308-8d2daff103f9",
   "metadata": {
    "tags": []
   },
   "outputs": [
    {
     "name": "stdout",
     "output_type": "stream",
     "text": [
      "Haru Tanaka\n"
     ]
    }
   ],
   "source": [
    "person = people['htanaka']\n",
    "\n",
    "print(person)"
   ]
  },
  {
   "cell_type": "code",
   "execution_count": 5,
   "id": "39e321c8-dc22-4715-be7e-fc3578a00e81",
   "metadata": {
    "tags": []
   },
   "outputs": [
    {
     "name": "stdout",
     "output_type": "stream",
     "text": [
      "Haru Tanaka\n"
     ]
    }
   ],
   "source": [
    "person = 'htanaka'\n",
    "\n",
    "print(people[person])"
   ]
  },
  {
   "cell_type": "code",
   "execution_count": 6,
   "id": "eaf9e01a-2c94-4b20-a56b-86c00520f44c",
   "metadata": {
    "tags": []
   },
   "outputs": [],
   "source": [
    "person_search = 'htanakas'"
   ]
  },
  {
   "cell_type": "code",
   "execution_count": 7,
   "id": "680b9139-bad0-4914-bb7b-e3389823b5cd",
   "metadata": {},
   "outputs": [
    {
     "name": "stdout",
     "output_type": "stream",
     "text": [
      "Unknown person\n"
     ]
    }
   ],
   "source": [
    "print(people.get(person_search, 'Unknown person'))"
   ]
  },
  {
   "cell_type": "code",
   "execution_count": 10,
   "id": "26ff0db8-c483-4279-8f01-1f98320db362",
   "metadata": {
    "tags": []
   },
   "outputs": [
    {
     "data": {
      "text/plain": [
       "\"who's this\""
      ]
     },
     "execution_count": 10,
     "metadata": {},
     "output_type": "execute_result"
    }
   ],
   "source": [
    "people.get('tobi', 'who\\'s this')"
   ]
  },
  {
   "cell_type": "code",
   "execution_count": 11,
   "id": "3ce1385a-bbf1-4664-b27f-d62daa62e0a7",
   "metadata": {
    "tags": []
   },
   "outputs": [],
   "source": [
    "people['htanaka'] = 'Maranatha Singh'"
   ]
  },
  {
   "cell_type": "code",
   "execution_count": 28,
   "id": "0f37f39a-58fe-4002-ab76-6b6e40bcfeff",
   "metadata": {
    "tags": []
   },
   "outputs": [
    {
     "name": "stdout",
     "output_type": "stream",
     "text": [
      "Htanaka - Maranatha Singh\n",
      "Ppatel - Priya Patel\n",
      "Bagarcia - Benjamin Alberto Garcia\n",
      "Zmin - Zhang Min\n",
      "Afarooqi - Ayesha Farooqi\n",
      "Hajackson - Hanna Jackson\n",
      "Papatel - Pratyush Aarav Patel\n",
      "Hrjackson - Henry Jackson\n"
     ]
    }
   ],
   "source": [
    "for persons in people:\n",
    "    print(f\"{persons.title()} - {people[persons]}\")"
   ]
  },
  {
   "cell_type": "code",
   "execution_count": 30,
   "id": "fed557a3-42ef-47c9-a8b5-dd8454b8359b",
   "metadata": {
    "tags": []
   },
   "outputs": [
    {
     "name": "stdout",
     "output_type": "stream",
     "text": [
      "Htanaka - Maranatha Singh\n",
      "Ppatel - Priya Patel\n",
      "Bagarcia - Benjamin Alberto Garcia\n",
      "Zmin - Zhang Min\n",
      "Afarooqi - Ayesha Farooqi\n",
      "Hajackson - Hanna Jackson\n",
      "Papatel - Pratyush Aarav Patel\n",
      "Hrjackson - Henry Jackson\n"
     ]
    }
   ],
   "source": [
    "for key, value in people.items():\n",
    "    print(f\"{key.title()} - {value}\")"
   ]
  },
  {
   "cell_type": "code",
   "execution_count": 3,
   "id": "306c6b64-a6e3-4ec5-bc35-4b5e8033c208",
   "metadata": {
    "tags": []
   },
   "outputs": [
    {
     "name": "stdout",
     "output_type": "stream",
     "text": [
      "Hello\n"
     ]
    }
   ],
   "source": [
    "print(\"Hello\")"
   ]
  },
  {
   "cell_type": "code",
   "execution_count": 4,
   "id": "53445958-1b6d-4afb-abd8-d70c4a97dba5",
   "metadata": {
    "tags": []
   },
   "outputs": [],
   "source": [
    "def greet(name):\n",
    "    \"\"\"This function welcomes a user\"\"\"\n",
    "    return f\"Welcome, {name.capitalize()}!\""
   ]
  },
  {
   "cell_type": "code",
   "execution_count": 5,
   "id": "14fa789f-c716-4ceb-aaf1-af0d07896626",
   "metadata": {
    "tags": []
   },
   "outputs": [
    {
     "name": "stdout",
     "output_type": "stream",
     "text": [
      "Welcome, Tobi!\n"
     ]
    }
   ],
   "source": [
    "print(greet('tobi'))"
   ]
  },
  {
   "cell_type": "code",
   "execution_count": 7,
   "id": "e528a103-9b10-4b17-8e25-0c9cbafedd17",
   "metadata": {
    "tags": []
   },
   "outputs": [
    {
     "name": "stdout",
     "output_type": "stream",
     "text": [
      "10\n"
     ]
    }
   ],
   "source": [
    "# sum_integers_list.py\n",
    "def my_sum(my_integers):\n",
    "    result = 0\n",
    "    for x in my_integers:\n",
    "        result += x\n",
    "    return result\n",
    "\n",
    "list_of_integers = [1, 2, 3, 4]\n",
    "print(my_sum(list_of_integers))\n"
   ]
  },
  {
   "cell_type": "code",
   "execution_count": 8,
   "id": "d0a2aa86-e0cc-4a22-93a3-9c59cc95fd73",
   "metadata": {
    "tags": []
   },
   "outputs": [
    {
     "name": "stdout",
     "output_type": "stream",
     "text": [
      "10\n"
     ]
    }
   ],
   "source": [
    "def my_sum(*args):\n",
    "    result = 0\n",
    "    for number in args:\n",
    "        result += number\n",
    "    return result\n",
    "\n",
    "print(my_sum(1,2,3,4))"
   ]
  },
  {
   "cell_type": "code",
   "execution_count": 34,
   "id": "c12f0bdc-fd0e-4602-9923-a5c356f56afd",
   "metadata": {
    "tags": []
   },
   "outputs": [
    {
     "name": "stdout",
     "output_type": "stream",
     "text": [
      "hello world!\n"
     ]
    }
   ],
   "source": [
    "def concact(**kwargs):\n",
    "    df = \"\"\n",
    "    for key, value in kwargs.items():\n",
    "        df += value\n",
    "    return df\n",
    "\n",
    "print(concact(a=\"hello\",b=\" \",c=\"world!\"))"
   ]
  },
  {
   "cell_type": "code",
   "execution_count": 35,
   "id": "2814bfa4-018b-451b-a53e-8fcc8bea43f6",
   "metadata": {
    "tags": []
   },
   "outputs": [
    {
     "name": "stdout",
     "output_type": "stream",
     "text": [
      "hello world!\n"
     ]
    }
   ],
   "source": [
    "def concact2(**kwargs):\n",
    "    word = \"\"\n",
    "    for each in kwargs.values():\n",
    "        word += each\n",
    "    return word\n",
    "\n",
    "print(concact2(a=\"hello\",b=\" \",c=\"world!\"))"
   ]
  },
  {
   "cell_type": "code",
   "execution_count": 1,
   "id": "9a6d570f-7af2-4a4b-ae01-6e52c8a9ea9e",
   "metadata": {
    "tags": []
   },
   "outputs": [],
   "source": [
    "def sort_list(list_1=[]):\n",
    "    list_1.sort(key=lambda x:x.upper())\n",
    "    sorted_list = \"\"\n",
    "    for each in list_1:\n",
    "        sorted_list += each + \", \"\n",
    "    sorted_list = sorted_list[:-2]\n",
    "    return sorted_list"
   ]
  },
  {
   "cell_type": "code",
   "execution_count": 2,
   "id": "8fbfe5e2-22ba-4aef-9e97-bff1411a1942",
   "metadata": {
    "tags": []
   },
   "outputs": [
    {
     "name": "stdout",
     "output_type": "stream",
     "text": [
      "Abeedeen, dGeneres, McGreen\n"
     ]
    }
   ],
   "source": [
    "print(sort_list([\"McGreen\", \"Abeedeen\", \"dGeneres\"]))"
   ]
  }
 ],
 "metadata": {
  "kernelspec": {
   "display_name": "Python 3 (ipykernel)",
   "language": "python",
   "name": "python3"
  },
  "language_info": {
   "codemirror_mode": {
    "name": "ipython",
    "version": 3
   },
   "file_extension": ".py",
   "mimetype": "text/x-python",
   "name": "python",
   "nbconvert_exporter": "python",
   "pygments_lexer": "ipython3",
   "version": "3.9.16"
  }
 },
 "nbformat": 4,
 "nbformat_minor": 5
}
