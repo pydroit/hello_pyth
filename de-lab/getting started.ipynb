{
 "cells": [
  {
   "cell_type": "code",
   "execution_count": 1,
   "id": "46bd73b2-830e-4fe9-8f93-7cde90d463c3",
   "metadata": {
    "tags": []
   },
   "outputs": [
    {
     "name": "stdout",
     "output_type": "stream",
     "text": [
      "Hello World\n"
     ]
    }
   ],
   "source": [
    "print(\"Hello World\")"
   ]
  },
  {
   "cell_type": "code",
   "execution_count": 1,
   "id": "2c0729c3-48cd-48f4-bedf-2f71d2163a5a",
   "metadata": {
    "tags": []
   },
   "outputs": [],
   "source": [
    "people = {\n",
    "'htanaka': 'Haru Tanaka',\n",
    "'ppatel': 'Priya Patel',\n",
    "'bagarcia': 'Benjamin Alberto Garcia',\n",
    "'zmin': 'Zhang Min',\n",
    "'afarooqi': 'Ayesha Farooqi',\n",
    "'hajackson': 'Hanna Jackson',\n",
    "'papatel': 'Pratyush Aarav Patel',\n",
    "'hrjackson': 'Henry Jackson'\n",
    "}"
   ]
  },
  {
   "cell_type": "code",
   "execution_count": 2,
   "id": "1b3e80fc-296e-49e7-b14e-0b1129c8e83a",
   "metadata": {
    "tags": []
   },
   "outputs": [
    {
     "data": {
      "text/plain": [
       "'Zhang Min'"
      ]
     },
     "execution_count": 2,
     "metadata": {},
     "output_type": "execute_result"
    }
   ],
   "source": [
    "people['zmin']"
   ]
  },
  {
   "cell_type": "code",
   "execution_count": 4,
   "id": "0fe55a63-9ee2-4bb5-9308-8d2daff103f9",
   "metadata": {
    "tags": []
   },
   "outputs": [
    {
     "name": "stdout",
     "output_type": "stream",
     "text": [
      "Haru Tanaka\n"
     ]
    }
   ],
   "source": [
    "person = people['htanaka']\n",
    "\n",
    "print(person)"
   ]
  },
  {
   "cell_type": "code",
   "execution_count": 7,
   "id": "39e321c8-dc22-4715-be7e-fc3578a00e81",
   "metadata": {
    "tags": []
   },
   "outputs": [
    {
     "name": "stdout",
     "output_type": "stream",
     "text": [
      "Haru Tanaka\n"
     ]
    }
   ],
   "source": [
    "person = 'htanaka'\n",
    "\n",
    "print(people[person])"
   ]
  },
  {
   "cell_type": "code",
   "execution_count": null,
   "id": "680b9139-bad0-4914-bb7b-e3389823b5cd",
   "metadata": {},
   "outputs": [],
   "source": []
  }
 ],
 "metadata": {
  "kernelspec": {
   "display_name": "Python 3 (ipykernel)",
   "language": "python",
   "name": "python3"
  },
  "language_info": {
   "codemirror_mode": {
    "name": "ipython",
    "version": 3
   },
   "file_extension": ".py",
   "mimetype": "text/x-python",
   "name": "python",
   "nbconvert_exporter": "python",
   "pygments_lexer": "ipython3",
   "version": "3.10.10"
  }
 },
 "nbformat": 4,
 "nbformat_minor": 5
}
