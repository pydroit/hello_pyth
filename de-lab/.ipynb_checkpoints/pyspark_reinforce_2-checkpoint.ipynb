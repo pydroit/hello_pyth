{
 "cells": [
  {
   "cell_type": "code",
   "execution_count": 1,
   "id": "d7d971e5-d26f-476b-9b3e-1a676baf3a43",
   "metadata": {
    "tags": []
   },
   "outputs": [],
   "source": [
    "import findspark\n",
    "findspark.init()"
   ]
  },
  {
   "cell_type": "code",
   "execution_count": 2,
   "id": "08f3a615-5fcb-4917-9c32-8753c37a7c37",
   "metadata": {
    "tags": []
   },
   "outputs": [
    {
     "name": "stderr",
     "output_type": "stream",
     "text": [
      "Setting default log level to \"WARN\".\n",
      "To adjust logging level use sc.setLogLevel(newLevel). For SparkR, use setLogLevel(newLevel).\n"
     ]
    },
    {
     "name": "stdout",
     "output_type": "stream",
     "text": [
      "23/10/16 19:03:00 WARN NativeCodeLoader: Unable to load native-hadoop library for your platform... using builtin-java classes where applicable\n"
     ]
    }
   ],
   "source": [
    "from pyspark.sql import SparkSession\n",
    "\n",
    "spark = (SparkSession.builder.appName(\"Pride and Prejudice Word Count\").getOrCreate())"
   ]
  },
  {
   "cell_type": "code",
   "execution_count": 3,
   "id": "73c4ecd1-ed65-4d0e-a4cf-e0be3d47c441",
   "metadata": {
    "tags": []
   },
   "outputs": [],
   "source": [
    "import pyspark.sql.functions as F\n",
    "import os\n",
    "import pandas as pd"
   ]
  },
  {
   "cell_type": "code",
   "execution_count": 5,
   "id": "a4ddbc00-7983-4fc2-85c7-16873ae1dab3",
   "metadata": {
    "tags": []
   },
   "outputs": [],
   "source": [
    "data_path = \"./to_count/*.txt\""
   ]
  },
  {
   "cell_type": "code",
   "execution_count": 6,
   "id": "6676391e-8186-49de-baee-983daf8abb58",
   "metadata": {
    "tags": []
   },
   "outputs": [],
   "source": [
    "result = (spark.read.text(data_path).\n",
    "          select(F.lower(F.col(\"value\")).alias(\"lower_word\")).\n",
    "          select(F.split(F.col(\"lower_word\"), \" \").alias(\"split_word\")).\n",
    "          select(F.explode(F.col(\"split_word\")).alias(\"explode_word\")).\n",
    "          select(F.regexp_extract(F.col(\"explode_word\"), \"[a-z]*\", 0).alias(\"extract_word\")).\n",
    "          where((F.col(\"extract_word\") != \"\") & (F.length(F.col(\"extract_word\")) > 3)).\n",
    "          groupby(F.col(\"extract_word\")).\n",
    "          count()\n",
    ")\n",
    "\n",
    "result.coalesce(1).write.csv(\"./combined_words5.csv\") "
   ]
  }
 ],
 "metadata": {
  "kernelspec": {
   "display_name": "Python 3 (ipykernel)",
   "language": "python",
   "name": "python3"
  },
  "language_info": {
   "codemirror_mode": {
    "name": "ipython",
    "version": 3
   },
   "file_extension": ".py",
   "mimetype": "text/x-python",
   "name": "python",
   "nbconvert_exporter": "python",
   "pygments_lexer": "ipython3",
   "version": "3.9.16"
  }
 },
 "nbformat": 4,
 "nbformat_minor": 5
}
