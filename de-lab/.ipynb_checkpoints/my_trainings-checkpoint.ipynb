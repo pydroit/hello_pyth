{
 "cells": [
  {
   "cell_type": "markdown",
   "id": "21e5834d",
   "metadata": {},
   "source": [
    "# Record of learnings"
   ]
  },
  {
   "cell_type": "markdown",
   "id": "f4d7e3b6",
   "metadata": {},
   "source": [
    "## _Hello Python_"
   ]
  },
  {
   "cell_type": "markdown",
   "id": "a4b375b5",
   "metadata": {},
   "source": [
    "<font color=purple>Hello World</font>"
   ]
  },
  {
   "cell_type": "code",
   "execution_count": 1,
   "id": "f182857e",
   "metadata": {
    "tags": []
   },
   "outputs": [
    {
     "name": "stdout",
     "output_type": "stream",
     "text": [
      "[0, 3, 6]\n"
     ]
    }
   ],
   "source": [
    "bool_list = [True, False, False, True, False, False, True]\n",
    "\n",
    "def bool_index(bool_):\n",
    "    \"\"\" return a list of the indexes of Trues in a given list\"\"\"\n",
    "    return_list = []\n",
    "    for x,y in enumerate(bool_): #enumerate returns the index and the value\n",
    "        if y:\n",
    "            return_list.append(x)\n",
    "    return return_list\n",
    "\n",
    "print(bool_index(bool_list))"
   ]
  },
  {
   "cell_type": "code",
   "execution_count": null,
   "id": "47bcf293",
   "metadata": {},
   "outputs": [],
   "source": [
    "def bool_index_2(bool_):\n",
    "    \"\"\" return a list of the indexes of Trues in a given list\"\"\"\n",
    "    [x for x,y in enumerate(bool_) if y] #using list comprehension\n",
    "\n",
    "print(bool_index(bool_list))"
   ]
  },
  {
   "cell_type": "markdown",
   "id": "ae3685d8",
   "metadata": {},
   "source": [
    "### _Class_"
   ]
  },
  {
   "cell_type": "code",
   "execution_count": null,
   "id": "186d3b1b",
   "metadata": {},
   "outputs": [],
   "source": [
    "class Fraction:\n",
    "    def __init__(self, numerator, denominator):\n",
    "        self.numerator = numerator\n",
    "        self.denominator = denominator\n",
    "    def __repr__(self):\n",
    "        return f\"{self.numerator}/{self.denominator}\"\n",
    "    def _gcd(self):\n",
    "        smaller = min(self.numerator, self.denominator)\n",
    "        small_divisors = [i for i in range(1, smaller +1) if smaller % i == 0]\n",
    "        larger = max(self.numerator, self.denominator)\n",
    "        common_divisors = [i for i in  small_divisors if larger % i == 0]\n",
    "        return max(common_divisors)\n",
    "    def reduce(self):\n",
    "        gcd = self._gcd()\n",
    "        self.numerator = int(self.numerator/gcd)\n",
    "        self.denominator = int(self.denominator/gcd)\n",
    "        return self"
   ]
  },
  {
   "cell_type": "code",
   "execution_count": null,
   "id": "d3a7efba",
   "metadata": {},
   "outputs": [],
   "source": [
    "rational = Fraction(16,32) #create an object for the class Fraction #Instantiate\n",
    "print(rational)\n",
    "print(rational.numerator)\n",
    "print(rational.denominator)\n",
    "print(rational.numerator/rational.denominator)\n",
    "rational.reduce()\n",
    "print(rational)"
   ]
  },
  {
   "cell_type": "code",
   "execution_count": null,
   "id": "69f8b8b6",
   "metadata": {},
   "outputs": [],
   "source": [
    "# I want to count the frequencies of letters in a list\n",
    "original_list = ['a', 'a', 'f', 'd', 'r', 'a', 'r', 't', 'd', 'f']\n",
    "# Option 1:\n",
    "# I am going to make use of a dictionary\n",
    "\n",
    "freq_list = {}\n",
    "for char in original_list:\n",
    "    if char in freq_list:\n",
    "        freq_list[char] += 1\n",
    "    else:\n",
    "        freq_list[char] = 1\n",
    "freq_list"
   ]
  },
  {
   "cell_type": "code",
   "execution_count": null,
   "id": "c5d38bab",
   "metadata": {},
   "outputs": [],
   "source": [
    "# Option 2:\n",
    "# Using the defaultdict collections module\n",
    "from collections import defaultdict\n",
    "original_list = ['a', 'a', 'f', 'd', 'r', 'a', 'r', 't', 'd', 'f']\n",
    "\n",
    "freq_list = defaultdict(int)\n",
    "for char in original_list:\n",
    "    freq_list[char] += 1\n",
    "\n",
    "freq_list"
   ]
  },
  {
   "cell_type": "code",
   "execution_count": null,
   "id": "948428ef",
   "metadata": {},
   "outputs": [],
   "source": [
    "# I can make the output above look more presentable by passing it to a dictionary\n",
    "dict(freq_list)"
   ]
  },
  {
   "cell_type": "code",
   "execution_count": null,
   "id": "b2353152",
   "metadata": {},
   "outputs": [],
   "source": [
    "# Option 3:\n",
    "# Using the Counter collections module\n",
    "from collections import Counter\n",
    "Counter(original_list)"
   ]
  },
  {
   "cell_type": "code",
   "execution_count": null,
   "id": "71e6b3e2",
   "metadata": {},
   "outputs": [],
   "source": [
    "# Sort a list with lambda\n",
    "\n",
    "names = ['Tobi', 'deMarguire', 'Carlos', 'Esther']\n",
    "names.sort()\n",
    "names.sort(key=lambda x:x.upper())\n",
    "print(names)"
   ]
  },
  {
   "cell_type": "markdown",
   "id": "7432be1d",
   "metadata": {},
   "source": [
    "## _Packing $and$ Unpacking_"
   ]
  },
  {
   "cell_type": "markdown",
   "id": "8ced93f3",
   "metadata": {},
   "source": [
    "### 1. Unpacking"
   ]
  },
  {
   "cell_type": "code",
   "execution_count": null,
   "id": "6cc0a84a",
   "metadata": {},
   "outputs": [],
   "source": [
    "def add_func(num1, num2, num3):\n",
    "    return num1 + num2 + num3\n",
    "\n",
    "add_func(1,2,3)"
   ]
  },
  {
   "cell_type": "code",
   "execution_count": null,
   "id": "1e829b7b",
   "metadata": {},
   "outputs": [],
   "source": [
    "my_list = [1, 2, 3]\n",
    "# To add the values in my_list, I can use conventional method below:\n",
    "\n",
    "print(f\"The conventional method: {add_func(my_list[0],my_list[1],my_list[2])}\")\n",
    "\n",
    "# Or use the unpacking method\n",
    "\n",
    "print(f\"The unpacking method: {add_func(*my_list)}\")"
   ]
  },
  {
   "cell_type": "markdown",
   "id": "3926eabf",
   "metadata": {},
   "source": [
    "### 2. Packing"
   ]
  },
  {
   "cell_type": "code",
   "execution_count": null,
   "id": "0f4a4888",
   "metadata": {},
   "outputs": [],
   "source": [
    "def arbitrary_add(*args):\n",
    "    \"\"\" an add function that takes in any number of input into a function, and adds them\"\"\"\n",
    "    total = 0\n",
    "    for a in args:\n",
    "        total += a\n",
    "    return total"
   ]
  },
  {
   "cell_type": "code",
   "execution_count": null,
   "id": "10451a14",
   "metadata": {},
   "outputs": [],
   "source": [
    "print(arbitrary_add(1,2))\n",
    "print(arbitrary_add(1,2,3))\n",
    "print(arbitrary_add(1,2,3,4))"
   ]
  },
  {
   "cell_type": "code",
   "execution_count": null,
   "id": "b7ef6cd7",
   "metadata": {},
   "outputs": [],
   "source": [
    "class Dog:\n",
    "    def __init__(self, age, color):\n",
    "        self.age = age\n",
    "        self.color = color\n",
    "  \n",
    "  #  def __repr__(self):#\n",
    "   #     print(self.age, self.color)\n",
    "dog_info = Dog(23, \"grey\")\n",
    "\n",
    "print(dog_info.color)"
   ]
  },
  {
   "cell_type": "code",
   "execution_count": null,
   "id": "24855ae3",
   "metadata": {},
   "outputs": [],
   "source": [
    "class Restaurant:\n",
    "    def __init__(self, restaurant_name, cuisine_type):\n",
    "        self.restaurant_name = restaurant_name\n",
    "        self.cuisine_type = cuisine_type\n",
    "    def describe_restaurant(self):\n",
    "        print(f\"Restaurant name: {self.restaurant_name}\")\n",
    "        print(f\"Cuisine type: {self.cuisine_type}\")\n",
    "    def open_restaurant(self):\n",
    "        print(f\"{self.restaurant_name} is open!\")\n",
    "\n",
    "restuarant_ = Restaurant(\"Chicken Republic\", \"dessert\")\n",
    "print(restuarant_.restaurant_name)\n",
    "print(restuarant_.cuisine_type)\n",
    "\n",
    "restuarant_.describe_restaurant()\n",
    "restuarant_.open_restaurant()"
   ]
  },
  {
   "cell_type": "code",
   "execution_count": null,
   "id": "4e4ef565",
   "metadata": {},
   "outputs": [],
   "source": [
    "restuarant_1 = Restaurant(\"KFC\", \"Fast food\")\n",
    "restuarant_2 = Restaurant(\"Tantalizers\", \"Indigenous\")\n",
    "restuarant_3 = Restaurant(\"Fork n Fingers\", \"Hybrid\")\n",
    "\n",
    "restuarant_1.describe_restaurant()\n",
    "restuarant_2.describe_restaurant()\n",
    "restuarant_3.describe_restaurant()"
   ]
  },
  {
   "cell_type": "code",
   "execution_count": null,
   "id": "945936ed",
   "metadata": {},
   "outputs": [],
   "source": [
    "import os\n",
    "os.listdir('.')"
   ]
  },
  {
   "cell_type": "code",
   "execution_count": null,
   "id": "8bca0cb3",
   "metadata": {},
   "outputs": [],
   "source": [
    "for directory, _, filenames in os.walk('/home/DESKTOP-MQ5OR49/Desktop'):\n",
    "    for filename in filenames:\n",
    "        print(os.path.join(directory, filename))"
   ]
  },
  {
   "cell_type": "code",
   "execution_count": null,
   "id": "53df7319",
   "metadata": {},
   "outputs": [],
   "source": [
    "class Dog:\n",
    "    def __init__(self, name, age, sex):\n",
    "        self.name = name\n",
    "        self.age = age\n",
    "        self.sex = sex\n",
    "    def sex_pron(self):\n",
    "        self.sex = self.sex.lower().strip()\n",
    "        if self.sex == \"male\":\n",
    "            return \"he\"\n",
    "        elif self.sex == \"female\":\n",
    "            return \"she\"\n",
    "        else:\n",
    "            return \"'unspecified gender'\"\n",
    "    \"\"\"\n",
    "    def sit(self):\n",
    "        return f\"My dog's name is {self.name}.)\n",
    "    \"\"\"\n",
    "\n",
    "        \n",
    "my_dog = Dog(\"Able\", 2, \"Male\")\n",
    "gender = my_dog.sex_pron()\n",
    "\n",
    "print(f\"My dog's name is {my_dog.name}, and {gender} is {my_dog.age} years old!\")"
   ]
  },
  {
   "cell_type": "code",
   "execution_count": null,
   "id": "ec947fa5",
   "metadata": {},
   "outputs": [],
   "source": [
    "import random\n",
    "import string\n",
    "\n",
    "class Die:\n",
    "    def __init__(self, sides=6):\n",
    "        self.sides = sides\n",
    "    def roll_die(self):\n",
    "        return randint(1,self.sides)\n",
    "    def roll_die_ten(self):\n",
    "        self.sides = 10\n",
    "        numbers = [randint(1,self.sides) for ten in range(10)]\n",
    "        letters = [random.choice(string.ascii_letters) for five in range(5)]\n",
    "        numbers.append(f for f in letters)\n",
    "        return numbers\n",
    "          \n",
    "    \n",
    "        \n",
    "roll = Die()\n",
    "roll_it = roll.roll_die_ten()  \n",
    "roll_it"
   ]
  },
  {
   "cell_type": "code",
   "execution_count": null,
   "id": "c11be5f1",
   "metadata": {},
   "outputs": [],
   "source": [
    "[random.choice(string.ascii_letters) for five in range(5)]"
   ]
  },
  {
   "cell_type": "markdown",
   "id": "070af0fd",
   "metadata": {},
   "source": [
    "Complete the method/function so that it converts dash/underscore delimited words into camel casing. The first word within the output should be capitalized only if the original word was capitalized (known as Upper Camel Case, also often referred to as Pascal case).\n",
    "Examples\n",
    "\n",
    "\"the-stealth-warrior\" gets converted to \"theStealthWarrior\"\\\n",
    "\"The_Stealth_Warrior\" gets converted to \"TheStealthWarrior\"\n"
   ]
  },
  {
   "cell_type": "code",
   "execution_count": null,
   "id": "23ae0544",
   "metadata": {},
   "outputs": [],
   "source": [
    "#loop through the string\n",
    "# CHECK if there's the special character ('-', '_') in the string\n",
    "# for each letter in the string, check the index of where there is the special char\n",
    "# at the position of the special char, replace the next letter with cap\n",
    "new_text = []\n",
    "def to_camel_case(text):\n",
    "    index_to_cap = [indexx + 1 for indexx, letter in enumerate(text) if letter in (\"_\", \"-\")]\n",
    "    #index_to_cap_ = ''.join(map(str, index_to_cap))\n",
    "    dff = [letter.replace(letter, letter.upper()) for indexx, letter in enumerate(text)]\n",
    "    return ''.join(dff)\n",
    "to_camel_case(\"T_ob_i\")\n",
    "\n",
    "    "
   ]
  },
  {
   "cell_type": "code",
   "execution_count": null,
   "id": "b8192716",
   "metadata": {},
   "outputs": [],
   "source": [
    "text = \"T_ob_i\"\n",
    "new_text = []\n",
    "index_to_cap = [indexx + 1 for indexx, letter in enumerate(text) if letter in (\"_\", \"-\")]\n",
    "    #index_to_cap_ = ''.join(map(str, index_to_cap))\n",
    "new_ = [letter[indexx == 2].upper() for indexx, letter in enumerate(text)]\n",
    "#     for d in text:\n",
    "#         new_text.append(d)\n",
    "\n",
    "    \n",
    "# dff = [letter.replace(letter, letter.upper()) for indexx, letter in enumerate(text)]\n",
    "# index_to_cap\n",
    "print(list(new_))\n"
   ]
  },
  {
   "cell_type": "code",
   "execution_count": 1,
   "id": "5079aac9",
   "metadata": {},
   "outputs": [
    {
     "name": "stdout",
     "output_type": "stream",
     "text": [
      "T_OB_I\n"
     ]
    }
   ],
   "source": [
    "text = \"T_ob_i\"\n",
    "dd = text.upper()\n",
    "print(dd)"
   ]
  },
  {
   "cell_type": "code",
   "execution_count": null,
   "id": "d4794a07",
   "metadata": {},
   "outputs": [],
   "source": [
    "new_text = []\n",
    "def to_camel_case(text):\n",
    "    return ''.join([letter.replace([d for d in letter[index]], \"d\") for index, letter in enumerate(text)])\n",
    "  \n",
    "to_camel_case(\"T_ob_i\")"
   ]
  },
  {
   "cell_type": "code",
   "execution_count": null,
   "id": "71b5a4fd",
   "metadata": {},
   "outputs": [],
   "source": [
    "#loop through the string\n",
    "# CHECK if there's the special character ('-', '_') in the string\n",
    "# \n",
    "def to_camel_case(text):\n",
    "#     for letter in text:\n",
    "#         if letter[0].isupper():\n",
    "#             return f\"{text} starts with upper\"\n",
    "#         return f\"{text} does not start with upper\"\n",
    "    #your code here\n",
    "#     for letter in text:\n",
    "#         return text.index(\"_\")\n",
    "    #index_all = [i for i, x in enumerate(text) if x == \"_\"]\n",
    "    index_all = [a for a, b in enumerate(text) if b == \"_\"]\n",
    "    cap_index = [index + 1 for index in index_all]\n",
    "    #new_list = [y.replace(y, y.upper())for x,y in enumerate(text)]# if x in cap_index]\n",
    "    #return new_list#\n",
    "    for h in text:\n",
    "        new_list = h.replace(text[cap_index], \"d\")\n",
    "    return new_list\n",
    "        \n",
    "\n",
    "        \n",
    "    \n",
    "to_camel_case(\"T_ob_i\")\n"
   ]
  },
  {
   "cell_type": "code",
   "execution_count": null,
   "id": "0175ff2f",
   "metadata": {},
   "outputs": [],
   "source": [
    "path = 'C:\\\\Users\\\\TOBI\\\\Downloads\\\\reddit_vm.csv'\n",
    "path = r'C:\\Users\\TOBI\\Downloads\\reddit_vm.csv'\n",
    "with open(path, encoding=\"utf-8\") as reddit_file:\n",
    "    contents = reddit_file.readlines()\n",
    "print(contents)"
   ]
  },
  {
   "cell_type": "code",
   "execution_count": null,
   "id": "6354bc05",
   "metadata": {},
   "outputs": [],
   "source": [
    "print(\"Hello\")\n",
    "my_path = 'C:\\\\Users\\\\TOBI\\\\Downloads\\\\reddit_vm.csv'\n",
    "with open(my_path, encoding=\"utf-8\") as reddit_file:\n",
    "    contents = reddit_file.readlines()\n",
    "print(contents)"
   ]
  },
  {
   "cell_type": "code",
   "execution_count": null,
   "id": "8ea8d8b9",
   "metadata": {},
   "outputs": [],
   "source": [
    "path = 'C:\\\\Users\\\\TOBI\\\\Downloads\\\\reddit_vm.csv'\n",
    "path = r'C:\\Users\\TOBI\\Downloads\\reddit_vm.csv'`\n",
    "with open(path, errors=\"ignore\") as reddit_file:\n",
    "    for line in reddit_file:\n",
    "        print(line[:5])"
   ]
  },
  {
   "cell_type": "code",
   "execution_count": null,
   "id": "faec442e",
   "metadata": {},
   "outputs": [],
   "source": [
    "import numpy as np\n",
    "\n",
    "arr3d = np.array([[[1, 2, 3], [4, 5, 6]], [[7, 8, 9], [10, 11, 12]]])"
   ]
  },
  {
   "cell_type": "code",
   "execution_count": null,
   "id": "bb2b69f6",
   "metadata": {},
   "outputs": [],
   "source": [
    "arr3d[0,0]"
   ]
  },
  {
   "cell_type": "code",
   "execution_count": null,
   "id": "af1f78f0",
   "metadata": {},
   "outputs": [],
   "source": [
    "arr = np.arange(32).reshape((8, 4))"
   ]
  },
  {
   "cell_type": "code",
   "execution_count": null,
   "id": "7088d918",
   "metadata": {},
   "outputs": [],
   "source": [
    "arr"
   ]
  },
  {
   "cell_type": "code",
   "execution_count": null,
   "id": "8e720bc2",
   "metadata": {},
   "outputs": [],
   "source": [
    "arr[[1,5,7,2],[0,2,1,1]]"
   ]
  },
  {
   "cell_type": "code",
   "execution_count": null,
   "id": "f485c216",
   "metadata": {},
   "outputs": [],
   "source": [
    "points = np.arange(5, 25, 5) #start at 5, end at 25, at the interval of 5\n",
    "points_2 = np.arange(1,10,3)"
   ]
  },
  {
   "cell_type": "code",
   "execution_count": null,
   "id": "b78ff983",
   "metadata": {},
   "outputs": [],
   "source": [
    "xs, ys = np.meshgrid(points, points_2)\n",
    "z = np.sqrt(xs ** 2 + ys ** 2)"
   ]
  },
  {
   "cell_type": "code",
   "execution_count": null,
   "id": "5e3336bc",
   "metadata": {},
   "outputs": [],
   "source": [
    "z"
   ]
  },
  {
   "cell_type": "code",
   "execution_count": null,
   "id": "f1d7b06f",
   "metadata": {},
   "outputs": [],
   "source": [
    "import matplotlib.pyplot as plt\n",
    "plt.imshow(z, cmap=plt.cm.gray); plt.colorbar()\n",
    "plt.title(\"Image plot of $\\sqrt{x^2 + y^2}$ for a grid of values\")"
   ]
  },
  {
   "cell_type": "code",
   "execution_count": null,
   "id": "32641986",
   "metadata": {},
   "outputs": [],
   "source": [
    "# Write a program that prints the integers from 1 to 100. \n",
    "# But for multiples of three print \"Fizz\" instead of the number, \n",
    "# and for the multiples of five print \"Buzz\". \n",
    "# For numbers which are multiples of both three and five print \"FizzBuzz\".\n",
    "\n",
    "the_list = []\n",
    "for num in range(1,101):\n",
    "    if num%3 == 0 and num%5 == 0:\n",
    "        num = 'FizzBuzz'\n",
    "    elif num%5 == 0:\n",
    "        num = 'Buzz'\n",
    "    elif num%3 == 0:\n",
    "        num = 'Fizz'\n",
    "    else:\n",
    "        num = num\n",
    "    the_list.append(num)\n",
    "print(the_list)"
   ]
  },
  {
   "cell_type": "code",
   "execution_count": null,
   "id": "14d6ccd1",
   "metadata": {},
   "outputs": [],
   "source": [
    "\n",
    "checker = True\n",
    "while checker:\n",
    "    \n",
    "    number = int(input(\"Please enter a number: \"))\n",
    "\n",
    "    #while result != 1:\n",
    "\n",
    "    def collatz(number):\n",
    "        if number % 2 == 0:\n",
    "            result = number // 2\n",
    "        else:\n",
    "            result = 3 * number + 1\n",
    "        if result == 1:\n",
    "            checker = False\n",
    "        \n",
    "result = collatz(number)\n",
    "result"
   ]
  },
  {
   "cell_type": "code",
   "execution_count": null,
   "id": "df5170dd",
   "metadata": {},
   "outputs": [],
   "source": [
    "def collatz(number):\n",
    "        if number % 2 == 0:\n",
    "            #print(number//2)\n",
    "            return number // 2\n",
    "        else:\n",
    "            #number % 2 == 1:\n",
    "            result = 3*number+1\n",
    "            #print(result)\n",
    "            return result\n",
    "\n",
    "n = int(input(\"Please enter a number: \"))\n",
    "while n != 1:\n",
    "    n = collatz(n)"
   ]
  },
  {
   "cell_type": "code",
   "execution_count": null,
   "id": "ea74e24d",
   "metadata": {},
   "outputs": [],
   "source": [
    "number = 12340\n",
    "number = str(number)\n",
    "\n",
    "if int(number[-1]) == 0:\n",
    "    print(f\"This number {number} ends with:\\nZero\")\n"
   ]
  },
  {
   "cell_type": "code",
   "execution_count": null,
   "id": "bd055a2a",
   "metadata": {},
   "outputs": [],
   "source": [
    "import wptools"
   ]
  },
  {
   "cell_type": "code",
   "execution_count": null,
   "id": "87dd9fa0",
   "metadata": {},
   "outputs": [],
   "source": [
    "page = wptools.page('E.T._the_Extra-Terrestrial').get()"
   ]
  },
  {
   "cell_type": "code",
   "execution_count": null,
   "id": "8cc54732",
   "metadata": {},
   "outputs": [],
   "source": [
    "page.data['image'][0]"
   ]
  },
  {
   "cell_type": "code",
   "execution_count": null,
   "id": "e1ce2a35",
   "metadata": {
    "scrolled": true
   },
   "outputs": [],
   "source": [
    "page.data['infobox']['director']"
   ]
  },
  {
   "cell_type": "code",
   "execution_count": null,
   "id": "c27b0bf4",
   "metadata": {},
   "outputs": [],
   "source": [
    "from PIL import Image\n",
    "from io import BytesIO"
   ]
  },
  {
   "cell_type": "code",
   "execution_count": null,
   "id": "50f7cf24",
   "metadata": {},
   "outputs": [],
   "source": [
    "import pandas as pd\n",
    "import wptools\n",
    "import os\n",
    "import requests\n",
    "from PIL import Image\n",
    "from io import BytesIO"
   ]
  },
  {
   "cell_type": "code",
   "execution_count": null,
   "id": "f46f6b4e",
   "metadata": {},
   "outputs": [],
   "source": [
    "title_list = [\n",
    " 'The_Wizard_of_Oz_(1939_film)',\n",
    " 'Citizen_Kane',\n",
    " 'The_Third_Man',\n",
    " 'Get_Out_(film)',\n",
    " 'Mad_Max:_Fury_Road',\n",
    " 'The_Cabinet_of_Dr._Caligari',\n",
    " 'All_About_Eve',\n",
    " 'Inside_Out_(2015_film)',\n",
    " 'The_Godfather',\n",
    " 'Metropolis_(1927_film)',\n",
    " 'E.T._the_Extra-Terrestrial',\n",
    " 'Modern_Times_(film)',\n",
    " 'It_Happened_One_Night',\n",
    " \"Singin'_in_the_Rain\",\n",
    " 'Boyhood_(film)',\n",
    " 'Casablanca_(film)',\n",
    " 'Moonlight_(2016_film)',\n",
    " 'Psycho_(1960_film)',\n",
    " 'Laura_(1944_film)',\n",
    " 'Nosferatu',\n",
    " 'Snow_White_and_the_Seven_Dwarfs_(1937_film)',\n",
    " \"A_Hard_Day%27s_Night_(film)\",\n",
    " 'La_Grande_Illusion',\n",
    " 'North_by_Northwest',\n",
    " 'The_Battle_of_Algiers',\n",
    " 'Dunkirk_(2017_film)',\n",
    " 'The_Maltese_Falcon_(1941_film)',\n",
    " 'Repulsion_(film)',\n",
    " '12_Years_a_Slave_(film)',\n",
    " 'Gravity_(2013_film)',\n",
    " 'Sunset_Boulevard_(film)',\n",
    " 'King_Kong_(1933_film)',\n",
    " 'Spotlight_(film)',\n",
    " 'The_Adventures_of_Robin_Hood',\n",
    " 'Rashomon',\n",
    " 'Rear_Window',\n",
    " 'Selma_(film)',\n",
    " 'Taxi_Driver',\n",
    " 'Toy_Story_3',\n",
    " 'Argo_(2012_film)',\n",
    " 'Toy_Story_2',\n",
    " 'The_Big_Sick',\n",
    " 'Bride_of_Frankenstein',\n",
    " 'Zootopia',\n",
    " 'M_(1931_film)',\n",
    " 'Wonder_Woman_(2017_film)',\n",
    " 'The_Philadelphia_Story_(film)',\n",
    " 'Alien_(film)',\n",
    " 'Bicycle_Thieves',\n",
    " 'Seven_Samurai',\n",
    " 'The_Treasure_of_the_Sierra_Madre_(film)',\n",
    " 'Up_(2009_film)',\n",
    " '12_Angry_Men_(1957_film)',\n",
    " 'The_400_Blows',\n",
    " 'Logan_(film)',\n",
    " 'All_Quiet_on_the_Western_Front_(1930_film)',\n",
    " 'Army_of_Shadows',\n",
    " 'Arrival_(film)',\n",
    " 'Baby_Driver',\n",
    " 'A_Streetcar_Named_Desire_(1951_film)',\n",
    " 'The_Night_of_the_Hunter_(film)',\n",
    " 'Star_Wars:_The_Force_Awakens',\n",
    " 'Manchester_by_the_Sea_(film)',\n",
    " 'Dr._Strangelove',\n",
    " 'Frankenstein_(1931_film)',\n",
    " 'Vertigo_(film)',\n",
    " 'The_Dark_Knight_(film)',\n",
    " 'Touch_of_Evil',\n",
    " 'The_Babadook',\n",
    " 'The_Conformist_(film)',\n",
    " 'Rebecca_(1940_film)',\n",
    " \"Rosemary%27s_Baby_(film)\",\n",
    " 'Finding_Nemo',\n",
    " 'Brooklyn_(film)',\n",
    " 'The_Wrestler_(2008_film)',\n",
    " 'The_39_Steps_(1935_film)',\n",
    " 'L.A._Confidential_(film)',\n",
    " 'Gone_with_the_Wind_(film)',\n",
    " 'The_Good,_the_Bad_and_the_Ugly',\n",
    " 'Skyfall',\n",
    " 'Rome,_Open_City',\n",
    " 'Tokyo_Story',\n",
    " 'Hell_or_High_Water_(film)',\n",
    " 'Pinocchio_(1940_film)',\n",
    " 'The_Jungle_Book_(2016_film)',\n",
    " 'La_La_Land_(film)',\n",
    " 'Star_Trek_(film)',\n",
    " 'High_Noon',\n",
    " 'Apocalypse_Now',\n",
    " 'On_the_Waterfront',\n",
    " 'The_Wages_of_Fear',\n",
    " 'The_Last_Picture_Show',\n",
    " 'Harry_Potter_and_the_Deathly_Hallows_–_Part_2',\n",
    " 'The_Grapes_of_Wrath_(film)',\n",
    " 'Roman_Holiday',\n",
    " 'Man_on_Wire',\n",
    " 'Jaws_(film)',\n",
    " 'Toy_Story',\n",
    " 'The_Godfather_Part_II',\n",
    " 'Battleship_Potemkin'\n",
    "]"
   ]
  },
  {
   "cell_type": "code",
   "execution_count": null,
   "id": "5fc962ea",
   "metadata": {},
   "outputs": [],
   "source": [
    "folder_name = 'bestofrt_posters'\n",
    "# Make directory if it doesn't already exist\n",
    "if not os.path.exists(folder_name):\n",
    "    os.makedirs(folder_name)"
   ]
  },
  {
   "cell_type": "code",
   "execution_count": null,
   "id": "fcb73e4d",
   "metadata": {},
   "outputs": [],
   "source": [
    "# List of dictionaries to build and convert to a DataFrame later\n",
    "df_list = []\n",
    "image_errors = {}\n",
    "for title in title_list:\n",
    "    try:\n",
    "        # This cell is slow so print ranking to gauge time remaining\n",
    "        ranking = title_list.index(title) + 1\n",
    "        print(ranking)\n",
    "        page = wptools.page(title, silent=True)\n",
    "        # Your code here (three lines)\n",
    "        images = page.get().data['image']\n",
    "        # First image is usually the poster\n",
    "        first_image_url = images[0]['url']\n",
    "        r = requests.get(first_image_url)\n",
    "        # Download movie poster image\n",
    "        i = Image.open(BytesIO(r.content))\n",
    "        image_file_format = first_image_url.split('.')[-1]\n",
    "        i.save(folder_name + \"/\" + str(ranking) + \"_\" + title + '.' + image_file_format)\n",
    "        # Append to list of dictionaries\n",
    "        df_list.append({'ranking': int(ranking),\n",
    "                        'title': title,\n",
    "                        'poster_url': first_image_url})\n",
    "    \n",
    "    # Not best practice to catch all exceptions but fine for this short script\n",
    "    except Exception as e:\n",
    "        print(str(ranking) + \"_\" + title + \": \" + str(e))\n",
    "        image_errors[str(ranking) + \"_\" + title] = images"
   ]
  },
  {
   "cell_type": "code",
   "execution_count": null,
   "id": "1ebc54d4",
   "metadata": {},
   "outputs": [],
   "source": [
    "for key in image_errors.keys():\n",
    "    print(key)"
   ]
  },
  {
   "cell_type": "code",
   "execution_count": null,
   "id": "b289e501",
   "metadata": {},
   "outputs": [],
   "source": [
    "# Inspect unidentifiable images and download them individually\n",
    "for rank_title, images in image_errors.items():\n",
    "    if rank_title == '22_A_Hard_Day%27s_Night_(film)':\n",
    "        url = 'https://upload.wikimedia.org/wikipedia/en/4/47/A_Hard_Days_night_movieposter.jpg'\n",
    "    if rank_title == '53_12_Angry_Men_(1957_film)':\n",
    "        url = 'https://upload.wikimedia.org/wikipedia/en/9/91/12_angry_men.jpg'\n",
    "    if rank_title == '72_Rosemary%27s_Baby_(film)':\n",
    "        url = 'https://upload.wikimedia.org/wikipedia/en/e/ef/Rosemarys_baby_poster.jpg'\n",
    "    if rank_title == '93_Harry_Potter_and_the_Deathly_Hallows_–_Part_2':\n",
    "        url = 'https://upload.wikimedia.org/wikipedia/en/d/df/Harry_Potter_and_the_Deathly_Hallows_%E2%80%93_Part_2.jpg'\n",
    "    title = rank_title[3:]\n",
    "    df_list.append({'ranking': int(title_list.index(title) + 1),\n",
    "                    'title': title,\n",
    "                    'poster_url': url})\n",
    "    r = requests.get(url)\n",
    "    # Download movie poster image\n",
    "    i = Image.open(BytesIO(r.content))\n",
    "    image_file_format = url.split('.')[-1]\n",
    "    i.save(folder_name + \"/\" + rank_title + '.' + image_file_format)"
   ]
  },
  {
   "cell_type": "code",
   "execution_count": null,
   "id": "243c8b4d",
   "metadata": {},
   "outputs": [],
   "source": [
    "# Create DataFrame from list of dictionaries\n",
    "df = pd.DataFrame(df_list, columns = ['ranking', 'title', 'poster_url'])\n",
    "df = df.sort_values('ranking').reset_index(drop=True)\n",
    "df"
   ]
  },
  {
   "cell_type": "code",
   "execution_count": 66,
   "id": "f1770290",
   "metadata": {},
   "outputs": [],
   "source": [
    "import mysql.connector\n",
    "from getpass import getpass"
   ]
  },
  {
   "cell_type": "code",
   "execution_count": 68,
   "id": "443142e2",
   "metadata": {},
   "outputs": [
    {
     "name": "stdout",
     "output_type": "stream",
     "text": [
      "Please enter user: root\n",
      "Enter password: ········\n"
     ]
    }
   ],
   "source": [
    "mydb = mysql.connector.connect(\n",
    "    host = \"localhost\",\n",
    "    user = input(\"Please enter user: \"),\n",
    "    password = getpass(\"Enter password: \"),\n",
    "    database = \"tobi\"\n",
    ")"
   ]
  },
  {
   "cell_type": "code",
   "execution_count": 40,
   "id": "00d366cc",
   "metadata": {},
   "outputs": [
    {
     "name": "stdout",
     "output_type": "stream",
     "text": [
      "<mysql.connector.connection_cext.CMySQLConnection object at 0x000001EAA9604610>\n"
     ]
    }
   ],
   "source": [
    "print(mydb)"
   ]
  },
  {
   "cell_type": "code",
   "execution_count": 61,
   "id": "77d02f10",
   "metadata": {},
   "outputs": [],
   "source": [
    "cursor = mydb.cursor()"
   ]
  },
  {
   "cell_type": "code",
   "execution_count": 62,
   "id": "9ca26d80",
   "metadata": {},
   "outputs": [
    {
     "name": "stdout",
     "output_type": "stream",
     "text": [
      "('deposits',)\n"
     ]
    }
   ],
   "source": [
    "cursor.execute(\"SHOW TABLES\")\n",
    "\n",
    "for c in cursor:\n",
    "    print(c)"
   ]
  },
  {
   "cell_type": "code",
   "execution_count": 49,
   "id": "0368a036",
   "metadata": {},
   "outputs": [],
   "source": [
    "query = \"select * from deposits\""
   ]
  },
  {
   "cell_type": "code",
   "execution_count": 5,
   "id": "1da67aae",
   "metadata": {},
   "outputs": [],
   "source": [
    "# cursor.execute(\"CREATE DATABASE my_pysql\")"
   ]
  },
  {
   "cell_type": "code",
   "execution_count": 28,
   "id": "469ebf9f",
   "metadata": {},
   "outputs": [
    {
     "name": "stdout",
     "output_type": "stream",
     "text": [
      "('information_schema',)\n",
      "('my_pysql',)\n",
      "('mysql',)\n",
      "('performance_schema',)\n",
      "('sakila',)\n",
      "('sys',)\n",
      "('tobi',)\n",
      "('world',)\n"
     ]
    }
   ],
   "source": [
    "# cursor.execute(\"SHOW DATABASES\")\n",
    "\n",
    "# for x in cursor:\n",
    "#     print(x)"
   ]
  },
  {
   "cell_type": "code",
   "execution_count": 12,
   "id": "d05352b0",
   "metadata": {},
   "outputs": [
    {
     "name": "stdout",
     "output_type": "stream",
     "text": [
      "('information_schema',)\n",
      "('my_pysql',)\n",
      "('mysql',)\n",
      "('performance_schema',)\n",
      "('sakila',)\n",
      "('sys',)\n",
      "('tobi',)\n",
      "('world',)\n"
     ]
    }
   ],
   "source": [
    "# for each in cursor:\n",
    "#     print(each)"
   ]
  },
  {
   "cell_type": "code",
   "execution_count": 14,
   "id": "1cf15dcd",
   "metadata": {},
   "outputs": [],
   "source": [
    "# cursor.execute(\"CREATE TABLE my_pysql.test_table (name VARCHAR(255), user_name VARCHAR(255))\")"
   ]
  },
  {
   "cell_type": "code",
   "execution_count": 63,
   "id": "1728d7ff",
   "metadata": {},
   "outputs": [],
   "source": [
    "cursor.execute(query)"
   ]
  },
  {
   "cell_type": "code",
   "execution_count": 64,
   "id": "a8e2f314",
   "metadata": {},
   "outputs": [
    {
     "name": "stdout",
     "output_type": "stream",
     "text": [
      "(datetime.date(2021, 10, 1), 200)\n",
      "(datetime.date(2021, 9, 1), 100)\n",
      "(datetime.date(2021, 8, 1), 500)\n",
      "(datetime.date(2021, 9, 1), 50)\n"
     ]
    }
   ],
   "source": [
    "for c in cursor:\n",
    "    print(c)"
   ]
  },
  {
   "cell_type": "code",
   "execution_count": 65,
   "id": "ee7958c1",
   "metadata": {},
   "outputs": [
    {
     "data": {
      "text/plain": [
       "True"
      ]
     },
     "execution_count": 65,
     "metadata": {},
     "output_type": "execute_result"
    }
   ],
   "source": [
    "cursor.close()"
   ]
  }
 ],
 "metadata": {
  "kernelspec": {
   "display_name": "Python 3 (ipykernel)",
   "language": "python",
   "name": "python3"
  },
  "language_info": {
   "codemirror_mode": {
    "name": "ipython",
    "version": 3
   },
   "file_extension": ".py",
   "mimetype": "text/x-python",
   "name": "python",
   "nbconvert_exporter": "python",
   "pygments_lexer": "ipython3",
   "version": "3.10.9"
  }
 },
 "nbformat": 4,
 "nbformat_minor": 5
}
