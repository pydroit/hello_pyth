{
 "cells": [
  {
   "cell_type": "code",
   "execution_count": 1,
   "id": "5bcf9435-7728-4503-8257-95d224fdf5ee",
   "metadata": {},
   "outputs": [],
   "source": [
    "import findspark\n",
    "findspark.init()"
   ]
  },
  {
   "cell_type": "code",
   "execution_count": 2,
   "id": "f53b9450-325f-4afe-8872-59bd148e1d01",
   "metadata": {
    "tags": []
   },
   "outputs": [],
   "source": [
    "from pyspark.sql import SparkSession"
   ]
  },
  {
   "cell_type": "code",
   "execution_count": 3,
   "id": "9fe00f49-41dd-468a-9df9-737f2c5e6d96",
   "metadata": {
    "tags": []
   },
   "outputs": [
    {
     "name": "stderr",
     "output_type": "stream",
     "text": [
      "Setting default log level to \"WARN\".\n",
      "To adjust logging level use sc.setLogLevel(newLevel). For SparkR, use setLogLevel(newLevel).\n"
     ]
    },
    {
     "name": "stdout",
     "output_type": "stream",
     "text": [
      "23/04/07 12:33:36 WARN NativeCodeLoader: Unable to load native-hadoop library for your platform... using builtin-java classes where applicable\n"
     ]
    }
   ],
   "source": [
    "spark = (SparkSession.builder.appName(\"Analyzing the vocabulary of Pride and Prejudice.\").getOrCreate())"
   ]
  },
  {
   "cell_type": "code",
   "execution_count": 4,
   "id": "a2ab079b-bf0a-42fb-9619-6791124a9520",
   "metadata": {},
   "outputs": [],
   "source": [
    "spark.sparkContext.setLogLevel(\"WARN\")"
   ]
  },
  {
   "cell_type": "code",
   "execution_count": 5,
   "id": "126bc940-79c6-4097-ac2c-04903b36ca68",
   "metadata": {
    "tags": []
   },
   "outputs": [],
   "source": [
    "book = spark.read.text(\"./1342-0.txt\")"
   ]
  },
  {
   "cell_type": "code",
   "execution_count": 6,
   "id": "ae20cfd7-03e6-482b-9861-3fb1801309fd",
   "metadata": {
    "tags": []
   },
   "outputs": [
    {
     "data": {
      "text/plain": [
       "DataFrame[value: string]"
      ]
     },
     "execution_count": 6,
     "metadata": {},
     "output_type": "execute_result"
    }
   ],
   "source": [
    "book"
   ]
  },
  {
   "cell_type": "code",
   "execution_count": null,
   "id": "a9a6944a-4dce-43c6-bee7-a974466427e8",
   "metadata": {
    "tags": []
   },
   "outputs": [],
   "source": [
    "print(book.head())"
   ]
  },
  {
   "cell_type": "code",
   "execution_count": null,
   "id": "06316279-bd21-4fe7-bc39-82b18e535483",
   "metadata": {
    "tags": []
   },
   "outputs": [],
   "source": [
    "spark?"
   ]
  },
  {
   "cell_type": "code",
   "execution_count": 7,
   "id": "006ffb43-e6a9-4eea-a982-de4bb4f1591e",
   "metadata": {
    "tags": []
   },
   "outputs": [
    {
     "name": "stderr",
     "output_type": "stream",
     "text": [
      "[Stage 0:>                                                          (0 + 1) / 1]\r"
     ]
    },
    {
     "name": "stdout",
     "output_type": "stream",
     "text": [
      "+--------------------------------------------------------------------+\n",
      "|                                                               value|\n",
      "+--------------------------------------------------------------------+\n",
      "|  The Project Gutenberg EBook of Pride and Prejudice, by Jane Austen|\n",
      "|                                                                    |\n",
      "|    This eBook is for the use of anyone anywhere at no cost and with|\n",
      "|almost no restrictions whatsoever.  You may copy it, give it away or|\n",
      "| re-use it under the terms of the Project Gutenberg License included|\n",
      "|                      with this eBook or online at www.gutenberg.org|\n",
      "|                                                                    |\n",
      "|                                                                    |\n",
      "|                                          Title: Pride and Prejudice|\n",
      "|                                                                    |\n",
      "|                                                 Author: Jane Austen|\n",
      "|                                                                    |\n",
      "|                         Posting Date: August 26, 2008 [EBook #1342]|\n",
      "|                                            Release Date: June, 1998|\n",
      "|                                        Last Updated: March 10, 2018|\n",
      "+--------------------------------------------------------------------+\n",
      "only showing top 15 rows\n",
      "\n"
     ]
    },
    {
     "name": "stderr",
     "output_type": "stream",
     "text": [
      "                                                                                \r"
     ]
    }
   ],
   "source": [
    "book.show(15, truncate=100)"
   ]
  },
  {
   "cell_type": "code",
   "execution_count": 8,
   "id": "943672c5-d2fe-4570-8961-3cae66c4d697",
   "metadata": {
    "tags": []
   },
   "outputs": [],
   "source": [
    "from pyspark.sql.functions import split"
   ]
  },
  {
   "cell_type": "code",
   "execution_count": 22,
   "id": "f0620b82-9b2f-49a3-ab60-9f69c1a8e725",
   "metadata": {
    "tags": []
   },
   "outputs": [],
   "source": [
    "lines = book.select(split(book.value, \" \").alias(\"line\"))"
   ]
  },
  {
   "cell_type": "code",
   "execution_count": 23,
   "id": "3cef313b-162a-4de2-9f7b-38b85b5d1ec0",
   "metadata": {
    "tags": []
   },
   "outputs": [
    {
     "name": "stdout",
     "output_type": "stream",
     "text": [
      "+--------------------+\n",
      "|                line|\n",
      "+--------------------+\n",
      "|[The, Project, Gu...|\n",
      "|                  []|\n",
      "|[This, eBook, is,...|\n",
      "|[almost, no, rest...|\n",
      "|[re-use, it, unde...|\n",
      "+--------------------+\n",
      "only showing top 5 rows\n",
      "\n"
     ]
    }
   ],
   "source": [
    "lines.show(5)"
   ]
  },
  {
   "cell_type": "code",
   "execution_count": 17,
   "id": "1086a9e8-260b-40be-875f-ab1da672345a",
   "metadata": {
    "tags": []
   },
   "outputs": [],
   "source": [
    "column_1 = book.select(book[\"value\"])\n",
    "column_2 = book.select(book.value)"
   ]
  },
  {
   "cell_type": "code",
   "execution_count": 18,
   "id": "ea6e1d0c-060b-4f77-af4e-ef2764343409",
   "metadata": {
    "tags": []
   },
   "outputs": [
    {
     "name": "stdout",
     "output_type": "stream",
     "text": [
      "+--------------------------------------------------------------------+\n",
      "|                                                               value|\n",
      "+--------------------------------------------------------------------+\n",
      "|  The Project Gutenberg EBook of Pride and Prejudice, by Jane Austen|\n",
      "|                                                                    |\n",
      "|    This eBook is for the use of anyone anywhere at no cost and with|\n",
      "|almost no restrictions whatsoever.  You may copy it, give it away or|\n",
      "| re-use it under the terms of the Project Gutenberg License included|\n",
      "|                      with this eBook or online at www.gutenberg.org|\n",
      "|                                                                    |\n",
      "|                                                                    |\n",
      "|                                          Title: Pride and Prejudice|\n",
      "|                                                                    |\n",
      "+--------------------------------------------------------------------+\n",
      "only showing top 10 rows\n",
      "\n",
      "+--------------------------------------------------------------------+\n",
      "|                                                               value|\n",
      "+--------------------------------------------------------------------+\n",
      "|  The Project Gutenberg EBook of Pride and Prejudice, by Jane Austen|\n",
      "|                                                                    |\n",
      "|    This eBook is for the use of anyone anywhere at no cost and with|\n",
      "|almost no restrictions whatsoever.  You may copy it, give it away or|\n",
      "| re-use it under the terms of the Project Gutenberg License included|\n",
      "|                      with this eBook or online at www.gutenberg.org|\n",
      "|                                                                    |\n",
      "|                                                                    |\n",
      "|                                          Title: Pride and Prejudice|\n",
      "|                                                                    |\n",
      "+--------------------------------------------------------------------+\n",
      "only showing top 10 rows\n",
      "\n"
     ]
    }
   ],
   "source": [
    "column_1.show(10, truncate = 70)\n",
    "column_2.show(10, truncate = 70)"
   ]
  },
  {
   "cell_type": "code",
   "execution_count": null,
   "id": "a0d1dc5d-7db6-4ff6-835c-abbe82220b58",
   "metadata": {
    "tags": []
   },
   "outputs": [],
   "source": [
    "lines = book.select(split(book.value, \" \").alias(\"line\"))"
   ]
  },
  {
   "cell_type": "code",
   "execution_count": null,
   "id": "a889284e-4fe3-4588-a633-f3a317783741",
   "metadata": {
    "tags": []
   },
   "outputs": [],
   "source": [
    "lines.show(5)"
   ]
  }
 ],
 "metadata": {
  "kernelspec": {
   "display_name": "delab-env",
   "language": "python",
   "name": "delab-env"
  },
  "language_info": {
   "codemirror_mode": {
    "name": "ipython",
    "version": 3
   },
   "file_extension": ".py",
   "mimetype": "text/x-python",
   "name": "python",
   "nbconvert_exporter": "python",
   "pygments_lexer": "ipython3",
   "version": "3.9.16"
  }
 },
 "nbformat": 4,
 "nbformat_minor": 5
}
