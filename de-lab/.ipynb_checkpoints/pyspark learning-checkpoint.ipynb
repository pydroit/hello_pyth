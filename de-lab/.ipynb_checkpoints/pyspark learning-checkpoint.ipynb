{
 "cells": [
  {
   "cell_type": "code",
   "execution_count": 1,
   "id": "5bcf9435-7728-4503-8257-95d224fdf5ee",
   "metadata": {},
   "outputs": [],
   "source": [
    "import findspark\n",
    "findspark.init()"
   ]
  },
  {
   "cell_type": "code",
   "execution_count": 2,
   "id": "f53b9450-325f-4afe-8872-59bd148e1d01",
   "metadata": {
    "tags": []
   },
   "outputs": [],
   "source": [
    "from pyspark.sql import SparkSession"
   ]
  },
  {
   "cell_type": "code",
   "execution_count": 3,
   "id": "9fe00f49-41dd-468a-9df9-737f2c5e6d96",
   "metadata": {
    "tags": []
   },
   "outputs": [
    {
     "name": "stderr",
     "output_type": "stream",
     "text": [
      "Setting default log level to \"WARN\".\n",
      "To adjust logging level use sc.setLogLevel(newLevel). For SparkR, use setLogLevel(newLevel).\n"
     ]
    },
    {
     "name": "stdout",
     "output_type": "stream",
     "text": [
      "23/04/03 18:08:19 WARN NativeCodeLoader: Unable to load native-hadoop library for your platform... using builtin-java classes where applicable\n"
     ]
    }
   ],
   "source": [
    "spark = (SparkSession.builder.appName(\"Analyzing the vocabulary of Pride and Prejudice.\").getOrCreate())"
   ]
  },
  {
   "cell_type": "code",
   "execution_count": 4,
   "id": "a2ab079b-bf0a-42fb-9619-6791124a9520",
   "metadata": {},
   "outputs": [],
   "source": [
    "spark.sparkContext.setLogLevel(\"WARN\")"
   ]
  },
  {
   "cell_type": "code",
   "execution_count": 10,
   "id": "126bc940-79c6-4097-ac2c-04903b36ca68",
   "metadata": {
    "tags": []
   },
   "outputs": [],
   "source": [
    "book = spark.read.text(\"./1342-0.txt\")"
   ]
  },
  {
   "cell_type": "code",
   "execution_count": 11,
   "id": "ae20cfd7-03e6-482b-9861-3fb1801309fd",
   "metadata": {
    "tags": []
   },
   "outputs": [
    {
     "data": {
      "text/plain": [
       "DataFrame[value: string]"
      ]
     },
     "execution_count": 11,
     "metadata": {},
     "output_type": "execute_result"
    }
   ],
   "source": [
    "book"
   ]
  },
  {
   "cell_type": "code",
   "execution_count": 14,
   "id": "a9a6944a-4dce-43c6-bee7-a974466427e8",
   "metadata": {
    "tags": []
   },
   "outputs": [
    {
     "name": "stderr",
     "output_type": "stream",
     "text": [
      "[Stage 0:>                                                          (0 + 1) / 1]\r"
     ]
    },
    {
     "name": "stdout",
     "output_type": "stream",
     "text": [
      "Row(value='The Project Gutenberg EBook of Pride and Prejudice, by Jane Austen')\n"
     ]
    },
    {
     "name": "stderr",
     "output_type": "stream",
     "text": [
      "                                                                                \r"
     ]
    }
   ],
   "source": [
    "print(book.head())"
   ]
  },
  {
   "cell_type": "code",
   "execution_count": 15,
   "id": "06316279-bd21-4fe7-bc39-82b18e535483",
   "metadata": {
    "tags": []
   },
   "outputs": [
    {
     "data": {
      "text/plain": [
       "\u001b[0;31mType:\u001b[0m        SparkSession\n",
       "\u001b[0;31mString form:\u001b[0m <pyspark.sql.session.SparkSession object at 0x7fb4c47f3130>\n",
       "\u001b[0;31mFile:\u001b[0m        ~/environment/hello_pyth/de-lab/delab-env/lib/python3.9/site-packages/pyspark/sql/session.py\n",
       "\u001b[0;31mDocstring:\u001b[0m  \n",
       "The entry point to programming Spark with the Dataset and DataFrame API.\n",
       "\n",
       "A SparkSession can be used create :class:`DataFrame`, register :class:`DataFrame` as\n",
       "tables, execute SQL over tables, cache tables, and read parquet files.\n",
       "To create a :class:`SparkSession`, use the following builder pattern:\n",
       "\n",
       ".. autoattribute:: builder\n",
       "   :annotation:\n",
       "\n",
       "Examples\n",
       "--------\n",
       ">>> spark = SparkSession.builder \\\n",
       "...     .master(\"local\") \\\n",
       "...     .appName(\"Word Count\") \\\n",
       "...     .config(\"spark.some.config.option\", \"some-value\") \\\n",
       "...     .getOrCreate()\n",
       "\n",
       ">>> from datetime import datetime\n",
       ">>> from pyspark.sql import Row\n",
       ">>> spark = SparkSession(sc)\n",
       ">>> allTypes = sc.parallelize([Row(i=1, s=\"string\", d=1.0, l=1,\n",
       "...     b=True, list=[1, 2, 3], dict={\"s\": 0}, row=Row(a=1),\n",
       "...     time=datetime(2014, 8, 1, 14, 1, 5))])\n",
       ">>> df = allTypes.toDF()\n",
       ">>> df.createOrReplaceTempView(\"allTypes\")\n",
       ">>> spark.sql('select i+1, d+1, not b, list[1], dict[\"s\"], time, row.a '\n",
       "...            'from allTypes where b and i > 0').collect()\n",
       "[Row((i + 1)=2, (d + 1)=2.0, (NOT b)=False, list[1]=2,         dict[s]=0, time=datetime.datetime(2014, 8, 1, 14, 1, 5), a=1)]\n",
       ">>> df.rdd.map(lambda x: (x.i, x.s, x.d, x.l, x.b, x.time, x.row.a, x.list)).collect()\n",
       "[(1, 'string', 1.0, 1, True, datetime.datetime(2014, 8, 1, 14, 1, 5), 1, [1, 2, 3])]"
      ]
     },
     "metadata": {},
     "output_type": "display_data"
    }
   ],
   "source": [
    "spark?"
   ]
  },
  {
   "cell_type": "code",
   "execution_count": 16,
   "id": "006ffb43-e6a9-4eea-a982-de4bb4f1591e",
   "metadata": {
    "tags": []
   },
   "outputs": [
    {
     "name": "stdout",
     "output_type": "stream",
     "text": [
      "+--------------------------------------------------------------------+\n",
      "|                                                               value|\n",
      "+--------------------------------------------------------------------+\n",
      "|  The Project Gutenberg EBook of Pride and Prejudice, by Jane Austen|\n",
      "|                                                                    |\n",
      "|    This eBook is for the use of anyone anywhere at no cost and with|\n",
      "|almost no restrictions whatsoever.  You may copy it, give it away or|\n",
      "| re-use it under the terms of the Project Gutenberg License included|\n",
      "|                      with this eBook or online at www.gutenberg.org|\n",
      "|                                                                    |\n",
      "|                                                                    |\n",
      "|                                          Title: Pride and Prejudice|\n",
      "|                                                                    |\n",
      "|                                                 Author: Jane Austen|\n",
      "|                                                                    |\n",
      "|                         Posting Date: August 26, 2008 [EBook #1342]|\n",
      "|                                            Release Date: June, 1998|\n",
      "|                                        Last Updated: March 10, 2018|\n",
      "+--------------------------------------------------------------------+\n",
      "only showing top 15 rows\n",
      "\n"
     ]
    }
   ],
   "source": [
    "book.show(15, truncate=100)"
   ]
  }
 ],
 "metadata": {
  "kernelspec": {
   "display_name": "delab-env",
   "language": "python",
   "name": "delab-env"
  },
  "language_info": {
   "codemirror_mode": {
    "name": "ipython",
    "version": 3
   },
   "file_extension": ".py",
   "mimetype": "text/x-python",
   "name": "python",
   "nbconvert_exporter": "python",
   "pygments_lexer": "ipython3",
   "version": "3.9.16"
  }
 },
 "nbformat": 4,
 "nbformat_minor": 5
}
