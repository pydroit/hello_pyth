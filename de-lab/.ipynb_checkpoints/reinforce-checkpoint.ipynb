{
 "cells": [
  {
   "cell_type": "code",
   "execution_count": 2,
   "id": "87b7e9ca-49f0-4d0a-9fe1-2fe3a2a51252",
   "metadata": {
    "tags": []
   },
   "outputs": [],
   "source": [
    "import findspark\n",
    "findspark.init()"
   ]
  },
  {
   "cell_type": "code",
   "execution_count": 3,
   "id": "c76c3969-30ab-41d5-99d5-bb2a213c57e0",
   "metadata": {
    "tags": []
   },
   "outputs": [],
   "source": [
    "from pyspark.sql import SparkSession"
   ]
  },
  {
   "cell_type": "code",
   "execution_count": 4,
   "id": "92f0bd36-bf00-43c4-b3b8-d7f96c384e9d",
   "metadata": {
    "tags": []
   },
   "outputs": [],
   "source": [
    "spark = (SparkSession.builder.appName(\"Most common word in Pride and Prejudice\").\n",
    "         getOrCreate())"
   ]
  },
  {
   "cell_type": "code",
   "execution_count": null,
   "id": "d2bc4ac0-6203-4c10-b218-13d150061663",
   "metadata": {
    "tags": []
   },
   "outputs": [],
   "source": [
    "spark?"
   ]
  },
  {
   "cell_type": "code",
   "execution_count": null,
   "id": "829775f7-620d-443d-9e82-a7a6458070ad",
   "metadata": {
    "tags": []
   },
   "outputs": [],
   "source": [
    "book = spark.read.text(\"./1342-0.txt\")"
   ]
  },
  {
   "cell_type": "code",
   "execution_count": 5,
   "id": "4c4fe618-46ab-4201-80e6-cf6693939db7",
   "metadata": {
    "tags": []
   },
   "outputs": [],
   "source": [
    "import pyspark.sql.functions as F"
   ]
  },
  {
   "cell_type": "code",
   "execution_count": 6,
   "id": "1c091763-0b83-4e67-86d0-842be697e560",
   "metadata": {
    "tags": []
   },
   "outputs": [],
   "source": [
    "# Tokenise\n",
    "results = (\n",
    "spark.read.text(\"./1342-0.txt\").\n",
    "    select(F.split(F.col(\"value\"), \" \").alias(\"token_word\")).\n",
    "    select(F.explode(F.col(\"token_word\")).alias(\"explode_word\")).\n",
    "    select(F.lower(F.col(\"explode_word\")).alias(\"lower_word\")).\n",
    "    select(F.regexp_extract(F.col(\"lower_word\"), \"[a-z]*\", 0).alias(\"extract_word\")).\n",
    "    where (F.col(\"extract_word\") != \"\").\n",
    "    groupby(\"extract_word\").\n",
    "    count()\n",
    ")"
   ]
  },
  {
   "cell_type": "code",
   "execution_count": 12,
   "id": "d56bce62-e473-47df-978d-0760817c426c",
   "metadata": {
    "tags": []
   },
   "outputs": [
    {
     "name": "stdout",
     "output_type": "stream",
     "text": [
      "+------------+-----+\n",
      "|extract_word|count|\n",
      "+------------+-----+\n",
      "|      online|    4|\n",
      "|        some|  203|\n",
      "|       still|   72|\n",
      "|         few|   72|\n",
      "|        hope|  122|\n",
      "+------------+-----+\n",
      "only showing top 5 rows\n",
      "\n"
     ]
    }
   ],
   "source": [
    "results.show(5)"
   ]
  },
  {
   "cell_type": "code",
   "execution_count": 13,
   "id": "56580a40-7147-4932-a72a-404c58ecd233",
   "metadata": {
    "tags": []
   },
   "outputs": [],
   "source": [
    "results.coalesce(1).write.csv(\"./count_words_spark.csv\")"
   ]
  },
  {
   "cell_type": "code",
   "execution_count": 18,
   "id": "cb2158a8-c255-4acd-a22e-290322b2ecb0",
   "metadata": {
    "tags": []
   },
   "outputs": [
    {
     "name": "stdout",
     "output_type": "stream",
     "text": [
      " Volume in drive C is Windows\n",
      " Volume Serial Number is 8846-F0FE\n",
      "\n",
      " Directory of C:\\Users\\oluwa\\Documents\\hello_pyth\\de-lab\n",
      "\n",
      "09/05/2023  23:25    <DIR>          .\n",
      "11/03/2023  02:19    <DIR>          ..\n",
      "21/04/2023  18:50    <DIR>          .ipynb_checkpoints\n",
      "07/04/2023  17:13           724,726 1342-0.txt\n",
      "09/05/2023  23:24    <DIR>          count_words_spark.csv\n",
      "30/03/2023  21:18    <DIR>          delab-env\n",
      "30/03/2023  23:20             9,209 getting started.ipynb\n",
      "10/04/2023  10:16           107,635 l2.csv\n",
      "14/03/2023  22:12            33,248 my_trainings.ipynb\n",
      "06/05/2023  18:01            28,920 pyspark learning.ipynb\n",
      "09/05/2023  23:25             4,798 reinforce.ipynb\n",
      "28/04/2023  22:44             5,579 Untitled.ipynb\n",
      "               7 File(s)        914,115 bytes\n",
      "               5 Dir(s)  868,661,174,272 bytes free\n"
     ]
    }
   ],
   "source": [
    "%ls"
   ]
  }
 ],
 "metadata": {
  "kernelspec": {
   "display_name": "Python 3 (ipykernel)",
   "language": "python",
   "name": "python3"
  },
  "language_info": {
   "codemirror_mode": {
    "name": "ipython",
    "version": 3
   },
   "file_extension": ".py",
   "mimetype": "text/x-python",
   "name": "python",
   "nbconvert_exporter": "python",
   "pygments_lexer": "ipython3",
   "version": "3.9.0"
  }
 },
 "nbformat": 4,
 "nbformat_minor": 5
}
