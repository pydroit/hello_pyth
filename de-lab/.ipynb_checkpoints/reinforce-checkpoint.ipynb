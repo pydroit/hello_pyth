{
 "cells": [
  {
   "cell_type": "code",
   "execution_count": 2,
   "id": "3a627502-0c82-4a6c-8ef8-b5ab8144f4ca",
   "metadata": {
    "tags": []
   },
   "outputs": [],
   "source": [
    "import findspark\n",
    "\n",
    "findspark.init()"
   ]
  },
  {
   "cell_type": "code",
   "execution_count": 4,
   "id": "29de1b53-f58c-439e-baeb-6c883d517444",
   "metadata": {
    "tags": []
   },
   "outputs": [],
   "source": [
    "from pyspark.sql import SparkSession"
   ]
  },
  {
   "cell_type": "code",
   "execution_count": 6,
   "id": "5b9131db-4765-4a19-959f-0006ac865aab",
   "metadata": {
    "tags": []
   },
   "outputs": [
    {
     "name": "stderr",
     "output_type": "stream",
     "text": [
      "Setting default log level to \"WARN\".\n",
      "To adjust logging level use sc.setLogLevel(newLevel). For SparkR, use setLogLevel(newLevel).\n"
     ]
    },
    {
     "name": "stdout",
     "output_type": "stream",
     "text": [
      "23/04/19 05:29:28 WARN NativeCodeLoader: Unable to load native-hadoop library for your platform... using builtin-java classes where applicable\n"
     ]
    }
   ],
   "source": [
    "spark = (SparkSession.\n",
    "    builder.appName(\"spark project\").getOrCreate())"
   ]
  },
  {
   "cell_type": "code",
   "execution_count": 9,
   "id": "44535831-62aa-4c94-87cb-a15b969ac142",
   "metadata": {
    "tags": []
   },
   "outputs": [],
   "source": [
    "book = spark.read.text(\"./1342-0.txt\")"
   ]
  },
  {
   "cell_type": "code",
   "execution_count": 10,
   "id": "1deb49ba-78c9-4a39-987b-607de684a6ac",
   "metadata": {
    "tags": []
   },
   "outputs": [
    {
     "name": "stderr",
     "output_type": "stream",
     "text": [
      "[Stage 0:>                                                          (0 + 1) / 1]\r"
     ]
    },
    {
     "name": "stdout",
     "output_type": "stream",
     "text": [
      "+------------------------------+\n",
      "|                         value|\n",
      "+------------------------------+\n",
      "|The Project Gutenberg EBook...|\n",
      "|                              |\n",
      "|This eBook is for the use o...|\n",
      "|almost no restrictions what...|\n",
      "|re-use it under the terms o...|\n",
      "+------------------------------+\n",
      "only showing top 5 rows\n",
      "\n"
     ]
    },
    {
     "name": "stderr",
     "output_type": "stream",
     "text": [
      "                                                                                \r"
     ]
    }
   ],
   "source": [
    "book.show(5, truncate = 30)"
   ]
  },
  {
   "cell_type": "code",
   "execution_count": 33,
   "id": "837acf06-0b6a-4373-8744-a728ab33a201",
   "metadata": {
    "tags": []
   },
   "outputs": [],
   "source": [
    "from pyspark.sql.functions import col, explode, split, regexp_extract, lower"
   ]
  },
  {
   "cell_type": "code",
   "execution_count": 27,
   "id": "13ae671d-a4bb-4738-8b0e-8f4969991768",
   "metadata": {
    "tags": []
   },
   "outputs": [],
   "source": [
    "make_split = book.select(split(col(\"value\"), \" \").alias(\"lower_col\"))"
   ]
  },
  {
   "cell_type": "code",
   "execution_count": 28,
   "id": "a75b441f-7047-4107-a8aa-12fc4d1d0b90",
   "metadata": {
    "tags": []
   },
   "outputs": [
    {
     "name": "stdout",
     "output_type": "stream",
     "text": [
      "+--------------------+\n",
      "|           lower_col|\n",
      "+--------------------+\n",
      "|[The, Project, Gu...|\n",
      "|                  []|\n",
      "|[This, eBook, is,...|\n",
      "|[almost, no, rest...|\n",
      "|[re-use, it, unde...|\n",
      "+--------------------+\n",
      "only showing top 5 rows\n",
      "\n"
     ]
    }
   ],
   "source": [
    "make_split.show(5)"
   ]
  },
  {
   "cell_type": "code",
   "execution_count": 29,
   "id": "2383d57b-86fa-40a7-a33a-9853a82e23a7",
   "metadata": {
    "tags": []
   },
   "outputs": [],
   "source": [
    "make_explode = make_split.select(explode(col(\"lower_col\")).alias(\"explode_col\"))"
   ]
  },
  {
   "cell_type": "code",
   "execution_count": 30,
   "id": "6cc5ebe1-2056-4e73-8981-815a1ea3d245",
   "metadata": {
    "tags": []
   },
   "outputs": [
    {
     "name": "stdout",
     "output_type": "stream",
     "text": [
      "+-----------+\n",
      "|explode_col|\n",
      "+-----------+\n",
      "|        The|\n",
      "|    Project|\n",
      "|  Gutenberg|\n",
      "|      EBook|\n",
      "|         of|\n",
      "+-----------+\n",
      "only showing top 5 rows\n",
      "\n"
     ]
    }
   ],
   "source": [
    "make_explode.show(5)"
   ]
  },
  {
   "cell_type": "code",
   "execution_count": 35,
   "id": "bcef1ba6-a195-4c98-b5b9-e79cb4f7aae5",
   "metadata": {
    "tags": []
   },
   "outputs": [],
   "source": [
    "make_lower = make_explode.select(lower(col(\"explode_col\")).alias(\"lower_col\"))"
   ]
  },
  {
   "cell_type": "code",
   "execution_count": 37,
   "id": "5e8aaae8-b24f-427d-938b-5f4ed78ee1df",
   "metadata": {
    "tags": []
   },
   "outputs": [
    {
     "name": "stdout",
     "output_type": "stream",
     "text": [
      "+----------+\n",
      "| lower_col|\n",
      "+----------+\n",
      "|       the|\n",
      "|   project|\n",
      "| gutenberg|\n",
      "|     ebook|\n",
      "|        of|\n",
      "|     pride|\n",
      "|       and|\n",
      "|prejudice,|\n",
      "|        by|\n",
      "|      jane|\n",
      "|    austen|\n",
      "|          |\n",
      "|      this|\n",
      "|     ebook|\n",
      "|        is|\n",
      "+----------+\n",
      "only showing top 15 rows\n",
      "\n"
     ]
    }
   ],
   "source": [
    "make_lower.show(15)"
   ]
  },
  {
   "cell_type": "code",
   "execution_count": 38,
   "id": "1dc94425-e3bf-424d-8a3a-2ca1070f3b25",
   "metadata": {
    "tags": []
   },
   "outputs": [],
   "source": [
    "make_clean = make_lower.select(regexp_extract(col(\"lower_col\"), \"[a-z]+\", 0).alias(\"clean_col\"))"
   ]
  },
  {
   "cell_type": "code",
   "execution_count": 39,
   "id": "7c3dca5a-97aa-431a-b4f4-0a8e5852eb81",
   "metadata": {
    "tags": []
   },
   "outputs": [
    {
     "name": "stdout",
     "output_type": "stream",
     "text": [
      "+---------+\n",
      "|clean_col|\n",
      "+---------+\n",
      "|      the|\n",
      "|  project|\n",
      "|gutenberg|\n",
      "|    ebook|\n",
      "|       of|\n",
      "|    pride|\n",
      "|      and|\n",
      "|prejudice|\n",
      "|       by|\n",
      "|     jane|\n",
      "|   austen|\n",
      "|         |\n",
      "|     this|\n",
      "|    ebook|\n",
      "|       is|\n",
      "+---------+\n",
      "only showing top 15 rows\n",
      "\n"
     ]
    }
   ],
   "source": [
    "make_clean.show(15)"
   ]
  },
  {
   "cell_type": "code",
   "execution_count": 40,
   "id": "b8f442c8-7401-4aab-a79f-db436e63b479",
   "metadata": {
    "tags": []
   },
   "outputs": [],
   "source": [
    "removed_spaces = make_clean.filter(col(\"clean_col\") != \"\")"
   ]
  },
  {
   "cell_type": "code",
   "execution_count": 41,
   "id": "44136db0-e4c1-47ee-8a9c-2ad6352672e5",
   "metadata": {
    "tags": []
   },
   "outputs": [
    {
     "name": "stdout",
     "output_type": "stream",
     "text": [
      "+---------+\n",
      "|clean_col|\n",
      "+---------+\n",
      "|      the|\n",
      "|  project|\n",
      "|gutenberg|\n",
      "|    ebook|\n",
      "|       of|\n",
      "|    pride|\n",
      "|      and|\n",
      "|prejudice|\n",
      "|       by|\n",
      "|     jane|\n",
      "|   austen|\n",
      "|     this|\n",
      "|    ebook|\n",
      "|       is|\n",
      "|      for|\n",
      "+---------+\n",
      "only showing top 15 rows\n",
      "\n"
     ]
    }
   ],
   "source": [
    "removed_spaces.show(15)"
   ]
  }
 ],
 "metadata": {
  "kernelspec": {
   "display_name": "delab-env",
   "language": "python",
   "name": "delab-env"
  },
  "language_info": {
   "codemirror_mode": {
    "name": "ipython",
    "version": 3
   },
   "file_extension": ".py",
   "mimetype": "text/x-python",
   "name": "python",
   "nbconvert_exporter": "python",
   "pygments_lexer": "ipython3",
   "version": "3.9.16"
  }
 },
 "nbformat": 4,
 "nbformat_minor": 5
}
