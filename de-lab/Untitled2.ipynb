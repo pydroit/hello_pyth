{
 "cells": [
  {
   "cell_type": "code",
   "execution_count": 1,
   "id": "a1c8859a-84fe-45dc-b892-9cf04907b874",
   "metadata": {},
   "outputs": [],
   "source": [
    "import findspark\n",
    "findspark.init()"
   ]
  },
  {
   "cell_type": "code",
   "execution_count": 3,
   "id": "392c48bb-61a9-4a48-882b-12f0334c00c6",
   "metadata": {
    "tags": []
   },
   "outputs": [],
   "source": [
    "from pyspark.sql import SparkSession\n",
    "import pyspark.sql.functions as F\n",
    "import pandas as pd\n",
    "import os"
   ]
  },
  {
   "cell_type": "code",
   "execution_count": 4,
   "id": "0105174d-0a37-43bc-a379-681fb43336a0",
   "metadata": {
    "tags": []
   },
   "outputs": [
    {
     "name": "stderr",
     "output_type": "stream",
     "text": [
      "Setting default log level to \"WARN\".\n",
      "To adjust logging level use sc.setLogLevel(newLevel). For SparkR, use setLogLevel(newLevel).\n"
     ]
    },
    {
     "name": "stdout",
     "output_type": "stream",
     "text": [
      "23/11/23 15:51:25 WARN NativeCodeLoader: Unable to load native-hadoop library for your platform... using builtin-java classes where applicable\n",
      "23/11/23 15:51:27 WARN Utils: Service 'SparkUI' could not bind on port 4040. Attempting port 4041.\n"
     ]
    }
   ],
   "source": [
    "spark  = (SparkSession.builder.appName(\"Pride and Prejudice\").getOrCreate()\n",
    ")"
   ]
  },
  {
   "cell_type": "code",
   "execution_count": 5,
   "id": "9e63445f-fa7c-4fe7-aa20-3a368d5b3a38",
   "metadata": {
    "tags": []
   },
   "outputs": [],
   "source": [
    "data_path = \"./to_count/*.txt\""
   ]
  },
  {
   "cell_type": "code",
   "execution_count": null,
   "id": "3625e975-3ad9-4609-aafc-ac1698c3289f",
   "metadata": {},
   "outputs": [],
   "source": [
    "# lower\n",
    "# split\n",
    "# explode\n",
    "# regexp_extract"
   ]
  },
  {
   "cell_type": "code",
   "execution_count": null,
   "id": "24f39934-032c-429f-b674-8a520fc78344",
   "metadata": {},
   "outputs": [],
   "source": [
    "project = (spark.read.txt(data_path)."
   ]
  }
 ],
 "metadata": {
  "kernelspec": {
   "display_name": "Python 3 (ipykernel)",
   "language": "python",
   "name": "python3"
  },
  "language_info": {
   "codemirror_mode": {
    "name": "ipython",
    "version": 3
   },
   "file_extension": ".py",
   "mimetype": "text/x-python",
   "name": "python",
   "nbconvert_exporter": "python",
   "pygments_lexer": "ipython3",
   "version": "3.9.16"
  }
 },
 "nbformat": 4,
 "nbformat_minor": 5
}
