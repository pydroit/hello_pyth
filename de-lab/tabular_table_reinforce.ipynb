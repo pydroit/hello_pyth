{
 "cells": [
  {
   "cell_type": "code",
   "execution_count": 1,
   "id": "51a52964-e328-41b8-8631-4bb39a474830",
   "metadata": {
    "tags": []
   },
   "outputs": [],
   "source": [
    "import findspark\n",
    "findspark.init()\n",
    "from pyspark.sql import SparkSession\n",
    "import pyspark.sql.functions as F\n",
    "import os\n",
    "import pandas as pd"
   ]
  },
  {
   "cell_type": "code",
   "execution_count": 2,
   "id": "bb0bcc85-64f4-47c5-b133-8eda5fe0c045",
   "metadata": {
    "tags": []
   },
   "outputs": [],
   "source": [
    "spark = (\n",
    "    SparkSession.builder.\n",
    "    appName(\"Working with tabular data\").\n",
    "    getOrCreate())"
   ]
  },
  {
   "cell_type": "code",
   "execution_count": 3,
   "id": "c52a8309-a9e3-41a1-b7a0-d473ca1c4b7c",
   "metadata": {
    "tags": []
   },
   "outputs": [],
   "source": [
    "PATH = r\"C:\\Users\\oluwa\\Documents\\broadcast_logs\""
   ]
  },
  {
   "cell_type": "code",
   "execution_count": null,
   "id": "747f26a0-841a-4125-b28c-1f619d6aa570",
   "metadata": {},
   "outputs": [],
   "source": []
  },
  {
   "cell_type": "code",
   "execution_count": 5,
   "id": "c4f0b329-f1ca-49e6-b633-b740737d272b",
   "metadata": {
    "tags": []
   },
   "outputs": [],
   "source": [
    "logs = spark.read.csv(os.path.join(PATH, 'BroadcastLogs_2018_Q3_M8.csv'),\n",
    "                      header=True,\n",
    "                      sep=\"|\",\n",
    "                      inferSchema=True,\n",
    "                      timestampFormat=\"yyyy-MM-dd\"\n",
    "                     )"
   ]
  },
  {
   "cell_type": "code",
   "execution_count": 6,
   "id": "ee1e4eb0-ff82-44c0-a5aa-ef3156f1893b",
   "metadata": {
    "tags": []
   },
   "outputs": [
    {
     "name": "stdout",
     "output_type": "stream",
     "text": [
      "root\n",
      " |-- BroadcastLogID: integer (nullable = true)\n",
      " |-- LogServiceID: integer (nullable = true)\n",
      " |-- LogDate: timestamp (nullable = true)\n",
      " |-- SequenceNO: integer (nullable = true)\n",
      " |-- AudienceTargetAgeID: integer (nullable = true)\n",
      " |-- AudienceTargetEthnicID: integer (nullable = true)\n",
      " |-- CategoryID: integer (nullable = true)\n",
      " |-- ClosedCaptionID: integer (nullable = true)\n",
      " |-- CountryOfOriginID: integer (nullable = true)\n",
      " |-- DubDramaCreditID: integer (nullable = true)\n",
      " |-- EthnicProgramID: integer (nullable = true)\n",
      " |-- ProductionSourceID: integer (nullable = true)\n",
      " |-- ProgramClassID: integer (nullable = true)\n",
      " |-- FilmClassificationID: integer (nullable = true)\n",
      " |-- ExhibitionID: integer (nullable = true)\n",
      " |-- Duration: string (nullable = true)\n",
      " |-- EndTime: string (nullable = true)\n",
      " |-- LogEntryDate: timestamp (nullable = true)\n",
      " |-- ProductionNO: string (nullable = true)\n",
      " |-- ProgramTitle: string (nullable = true)\n",
      " |-- StartTime: string (nullable = true)\n",
      " |-- Subtitle: string (nullable = true)\n",
      " |-- NetworkAffiliationID: integer (nullable = true)\n",
      " |-- SpecialAttentionID: integer (nullable = true)\n",
      " |-- BroadcastOriginPointID: integer (nullable = true)\n",
      " |-- CompositionID: integer (nullable = true)\n",
      " |-- Producer1: string (nullable = true)\n",
      " |-- Producer2: string (nullable = true)\n",
      " |-- Language1: integer (nullable = true)\n",
      " |-- Language2: integer (nullable = true)\n",
      "\n"
     ]
    }
   ],
   "source": [
    "logs.printSchema()"
   ]
  },
  {
   "cell_type": "code",
   "execution_count": 11,
   "id": "27233caa-7a50-403e-9a19-64bf95fa6814",
   "metadata": {
    "tags": []
   },
   "outputs": [
    {
     "data": {
      "text/plain": [
       "['BroadcastLogID',\n",
       " 'LogServiceID',\n",
       " 'LogDate',\n",
       " 'SequenceNO',\n",
       " 'AudienceTargetAgeID',\n",
       " 'AudienceTargetEthnicID',\n",
       " 'CategoryID',\n",
       " 'ClosedCaptionID',\n",
       " 'CountryOfOriginID',\n",
       " 'DubDramaCreditID',\n",
       " 'EthnicProgramID',\n",
       " 'ProductionSourceID',\n",
       " 'ProgramClassID',\n",
       " 'FilmClassificationID',\n",
       " 'ExhibitionID',\n",
       " 'Duration',\n",
       " 'EndTime',\n",
       " 'LogEntryDate',\n",
       " 'ProductionNO',\n",
       " 'ProgramTitle',\n",
       " 'StartTime',\n",
       " 'Subtitle',\n",
       " 'NetworkAffiliationID',\n",
       " 'SpecialAttentionID',\n",
       " 'BroadcastOriginPointID',\n",
       " 'CompositionID',\n",
       " 'Producer1',\n",
       " 'Producer2',\n",
       " 'Language1',\n",
       " 'Language2']"
      ]
     },
     "execution_count": 11,
     "metadata": {},
     "output_type": "execute_result"
    }
   ],
   "source": [
    "logs.columns"
   ]
  },
  {
   "cell_type": "code",
   "execution_count": 14,
   "id": "73d634c8-8786-4295-808e-1d7281a930ea",
   "metadata": {
    "tags": []
   },
   "outputs": [
    {
     "name": "stdout",
     "output_type": "stream",
     "text": [
      "+--------------+------------+-------------------+\n",
      "|BroadcastLogID|LogServiceID|LogDate            |\n",
      "+--------------+------------+-------------------+\n",
      "|1196192316    |3157        |2018-08-01 00:00:00|\n",
      "|1196192317    |3157        |2018-08-01 00:00:00|\n",
      "|1196192318    |3157        |2018-08-01 00:00:00|\n",
      "|1196192319    |3157        |2018-08-01 00:00:00|\n",
      "|1196192320    |3157        |2018-08-01 00:00:00|\n",
      "+--------------+------------+-------------------+\n",
      "only showing top 5 rows\n",
      "\n"
     ]
    }
   ],
   "source": [
    "logs.select('BroadcastLogID',\n",
    " 'LogServiceID',\n",
    " 'LogDate').show(5, truncate=False)"
   ]
  },
  {
   "cell_type": "code",
   "execution_count": 23,
   "id": "9fdce3bd-ffe2-49b4-b1cb-6d130ff67885",
   "metadata": {
    "tags": []
   },
   "outputs": [],
   "source": [
    "#exclude 'BroadcastLogID' and 'SequenceNO' columns\n",
    "\n",
    "logs = logs.select(*[x for x in logs.columns if x not in ['BroadcastLogID', 'SequenceNO', 'LogServiceID']])"
   ]
  },
  {
   "cell_type": "code",
   "execution_count": 24,
   "id": "73d174e4-4518-4e48-adfd-f6db932c48ab",
   "metadata": {
    "tags": []
   },
   "outputs": [
    {
     "data": {
      "text/plain": [
       "['LogDate',\n",
       " 'AudienceTargetAgeID',\n",
       " 'AudienceTargetEthnicID',\n",
       " 'CategoryID',\n",
       " 'ClosedCaptionID',\n",
       " 'CountryOfOriginID',\n",
       " 'DubDramaCreditID',\n",
       " 'EthnicProgramID',\n",
       " 'ProductionSourceID',\n",
       " 'ProgramClassID',\n",
       " 'FilmClassificationID',\n",
       " 'ExhibitionID',\n",
       " 'Duration',\n",
       " 'EndTime',\n",
       " 'LogEntryDate',\n",
       " 'ProductionNO',\n",
       " 'ProgramTitle',\n",
       " 'StartTime',\n",
       " 'Subtitle',\n",
       " 'NetworkAffiliationID',\n",
       " 'SpecialAttentionID',\n",
       " 'BroadcastOriginPointID',\n",
       " 'CompositionID',\n",
       " 'Producer1',\n",
       " 'Producer2',\n",
       " 'Language1',\n",
       " 'Language2']"
      ]
     },
     "execution_count": 24,
     "metadata": {},
     "output_type": "execute_result"
    }
   ],
   "source": [
    "logs.columns"
   ]
  },
  {
   "cell_type": "code",
   "execution_count": 29,
   "id": "1ec19f6a-661d-4d74-bb1c-c4084a9a796e",
   "metadata": {
    "tags": []
   },
   "outputs": [
    {
     "name": "stdout",
     "output_type": "stream",
     "text": [
      "+-------------------+\n",
      "|LogDate            |\n",
      "+-------------------+\n",
      "|2018-08-01 00:00:00|\n",
      "|2018-08-01 00:00:00|\n",
      "|2018-08-01 00:00:00|\n",
      "|2018-08-01 00:00:00|\n",
      "|2018-08-01 00:00:00|\n",
      "+-------------------+\n",
      "only showing top 5 rows\n",
      "\n"
     ]
    }
   ],
   "source": [
    "logs.select(F.col('LogDate')).show(5, False)"
   ]
  },
  {
   "cell_type": "code",
   "execution_count": 30,
   "id": "c15f6aa1-78d8-458f-8a6b-1917218d4de6",
   "metadata": {
    "tags": []
   },
   "outputs": [
    {
     "name": "stdout",
     "output_type": "stream",
     "text": [
      "+------------------------+\n",
      "|substring(LogDate, 1, 4)|\n",
      "+------------------------+\n",
      "|                    2018|\n",
      "+------------------------+\n",
      "\n"
     ]
    }
   ],
   "source": [
    "logs.select(F.substring(F.col('LogDate'), 1, 4)).distinct().show(5)"
   ]
  },
  {
   "cell_type": "code",
   "execution_count": 31,
   "id": "862772bf-04fa-47dd-94dd-dd3899c0e7f0",
   "metadata": {
    "tags": []
   },
   "outputs": [
    {
     "name": "stdout",
     "output_type": "stream",
     "text": [
      "+----------------+\n",
      "|full_duration   |\n",
      "+----------------+\n",
      "|02:00:00.0000000|\n",
      "|00:00:30.0000000|\n",
      "|00:00:15.0000000|\n",
      "|00:00:15.0000000|\n",
      "|00:00:15.0000000|\n",
      "+----------------+\n",
      "only showing top 5 rows\n",
      "\n"
     ]
    }
   ],
   "source": [
    "logs.select(\n",
    "    F.col('Duration').alias(\"full_duration\")).show(5, False)"
   ]
  },
  {
   "cell_type": "code",
   "execution_count": 54,
   "id": "d61927c2-7fc1-4976-b53e-28433e4a888f",
   "metadata": {
    "tags": []
   },
   "outputs": [
    {
     "name": "stdout",
     "output_type": "stream",
     "text": [
      "+----------------+----+---+---+-------------+\n",
      "|full            |hour|min|sec|duration_secs|\n",
      "+----------------+----+---+---+-------------+\n",
      "|00:59:52.0000000|0   |59 |52 |3592         |\n",
      "|00:16:31.0000000|0   |16 |31 |991          |\n",
      "|00:13:30.0000000|0   |13 |30 |810          |\n",
      "|00:48:17.0000000|0   |48 |17 |2897         |\n",
      "|00:00:19.0000000|0   |0  |19 |19           |\n",
      "+----------------+----+---+---+-------------+\n",
      "only showing top 5 rows\n",
      "\n"
     ]
    }
   ],
   "source": [
    "logs.select(\n",
    "    F.col('Duration').alias('full'),\n",
    "    F.col('Duration').substr(1,2).cast('int').alias('hour'),\n",
    "    F.col('Duration').substr(4,2).cast('int').alias('min'),\n",
    "    F.col('Duration').substr(7,2).cast('int').alias('sec'),\n",
    "    (F.col('Duration').substr(1,2).cast('int') * 60 * 60 +\n",
    "    F.col('Duration').substr(4,2).cast('int') * 60 +\n",
    "    F.col('Duration').substr(7,2).cast('int')).alias('duration_secs')\n",
    ").distinct().show(5, False)"
   ]
  },
  {
   "cell_type": "code",
   "execution_count": 64,
   "id": "b02e4d75-dc94-418d-9afc-ba0c47395a45",
   "metadata": {
    "tags": []
   },
   "outputs": [],
   "source": [
    "logs = logs.withColumn('duration_secs',\n",
    "F.col('Duration').substr(1,2).cast('int') * 60 * 60 +\n",
    "F.col('Duration').substr(4,2).cast('int') * 60 +\n",
    "F.col('Duration').substr(7,2).cast('int'))"
   ]
  },
  {
   "cell_type": "code",
   "execution_count": 65,
   "id": "95af7a75-da5f-418b-a385-d0f6969dad54",
   "metadata": {
    "tags": []
   },
   "outputs": [
    {
     "name": "stdout",
     "output_type": "stream",
     "text": [
      "root\n",
      " |-- LogDate: timestamp (nullable = true)\n",
      " |-- AudienceTargetAgeID: integer (nullable = true)\n",
      " |-- AudienceTargetEthnicID: integer (nullable = true)\n",
      " |-- CategoryID: integer (nullable = true)\n",
      " |-- ClosedCaptionID: integer (nullable = true)\n",
      " |-- CountryOfOriginID: integer (nullable = true)\n",
      " |-- DubDramaCreditID: integer (nullable = true)\n",
      " |-- EthnicProgramID: integer (nullable = true)\n",
      " |-- ProductionSourceID: integer (nullable = true)\n",
      " |-- ProgramClassID: integer (nullable = true)\n",
      " |-- FilmClassificationID: integer (nullable = true)\n",
      " |-- ExhibitionID: integer (nullable = true)\n",
      " |-- Duration: string (nullable = true)\n",
      " |-- EndTime: string (nullable = true)\n",
      " |-- LogEntryDate: timestamp (nullable = true)\n",
      " |-- ProductionNO: string (nullable = true)\n",
      " |-- ProgramTitle: string (nullable = true)\n",
      " |-- StartTime: string (nullable = true)\n",
      " |-- Subtitle: string (nullable = true)\n",
      " |-- NetworkAffiliationID: integer (nullable = true)\n",
      " |-- SpecialAttentionID: integer (nullable = true)\n",
      " |-- BroadcastOriginPointID: integer (nullable = true)\n",
      " |-- CompositionID: integer (nullable = true)\n",
      " |-- Producer1: string (nullable = true)\n",
      " |-- Producer2: string (nullable = true)\n",
      " |-- Language1: integer (nullable = true)\n",
      " |-- Language2: integer (nullable = true)\n",
      " |-- duration_secs: integer (nullable = true)\n",
      "\n"
     ]
    }
   ],
   "source": [
    "logs.printSchema()"
   ]
  }
 ],
 "metadata": {
  "kernelspec": {
   "display_name": "Python 3 (ipykernel)",
   "language": "python",
   "name": "python3"
  },
  "language_info": {
   "codemirror_mode": {
    "name": "ipython",
    "version": 3
   },
   "file_extension": ".py",
   "mimetype": "text/x-python",
   "name": "python",
   "nbconvert_exporter": "python",
   "pygments_lexer": "ipython3",
   "version": "3.9.0"
  }
 },
 "nbformat": 4,
 "nbformat_minor": 5
}
