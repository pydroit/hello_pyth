{
 "cells": [
  {
   "cell_type": "code",
   "execution_count": 2,
   "id": "51a52964-e328-41b8-8631-4bb39a474830",
   "metadata": {
    "tags": []
   },
   "outputs": [],
   "source": [
    "import findspark\n",
    "findspark.init()\n",
    "from pyspark.sql import SparkSession\n",
    "import pyspark.sql.functions as F\n",
    "import os\n",
    "import pandas as pd"
   ]
  },
  {
   "cell_type": "code",
   "execution_count": 3,
   "id": "bb0bcc85-64f4-47c5-b133-8eda5fe0c045",
   "metadata": {
    "tags": []
   },
   "outputs": [],
   "source": [
    "spark = (\n",
    "    SparkSession.builder.\n",
    "    appName(\"Working with tabular data\").\n",
    "    getOrCreate())"
   ]
  },
  {
   "cell_type": "code",
   "execution_count": 4,
   "id": "c52a8309-a9e3-41a1-b7a0-d473ca1c4b7c",
   "metadata": {
    "tags": []
   },
   "outputs": [],
   "source": [
    "PATH = r\"C:\\Users\\oluwa\\Documents\\broadcast_logs\""
   ]
  },
  {
   "cell_type": "code",
   "execution_count": 5,
   "id": "c4f0b329-f1ca-49e6-b633-b740737d272b",
   "metadata": {
    "tags": []
   },
   "outputs": [],
   "source": [
    "logs = spark.read.csv(os.path.join(PATH, 'BroadcastLogs_2018_Q3_M8.csv'),\n",
    "                      header=True,\n",
    "                      sep=\"|\",\n",
    "                      inferSchema=True,\n",
    "                      timestampFormat=\"yyyy-MM-dd\"\n",
    "                     )"
   ]
  },
  {
   "cell_type": "code",
   "execution_count": null,
   "id": "ee1e4eb0-ff82-44c0-a5aa-ef3156f1893b",
   "metadata": {
    "tags": []
   },
   "outputs": [],
   "source": [
    "logs.printSchema()"
   ]
  },
  {
   "cell_type": "code",
   "execution_count": null,
   "id": "27233caa-7a50-403e-9a19-64bf95fa6814",
   "metadata": {
    "tags": []
   },
   "outputs": [],
   "source": [
    "logs.columns"
   ]
  },
  {
   "cell_type": "code",
   "execution_count": null,
   "id": "73d634c8-8786-4295-808e-1d7281a930ea",
   "metadata": {
    "tags": []
   },
   "outputs": [],
   "source": [
    "logs.select('BroadcastLogID',\n",
    " 'LogServiceID',\n",
    " 'LogDate').show(5, truncate=False)"
   ]
  },
  {
   "cell_type": "code",
   "execution_count": 6,
   "id": "9fdce3bd-ffe2-49b4-b1cb-6d130ff67885",
   "metadata": {
    "tags": []
   },
   "outputs": [],
   "source": [
    "#exclude 'BroadcastLogID' and 'SequenceNO' columns\n",
    "\n",
    "logs_copy = logs.select(*[x for x in logs.columns if x not in ['BroadcastLogID', 'SequenceNO', 'LogServiceID']])"
   ]
  },
  {
   "cell_type": "code",
   "execution_count": null,
   "id": "73d174e4-4518-4e48-adfd-f6db932c48ab",
   "metadata": {
    "tags": []
   },
   "outputs": [],
   "source": [
    "logs_copy.columns"
   ]
  },
  {
   "cell_type": "code",
   "execution_count": null,
   "id": "1ec19f6a-661d-4d74-bb1c-c4084a9a796e",
   "metadata": {
    "tags": []
   },
   "outputs": [],
   "source": [
    "logs_copy.select(F.col('LogDate')).show(5, False)"
   ]
  },
  {
   "cell_type": "code",
   "execution_count": null,
   "id": "c15f6aa1-78d8-458f-8a6b-1917218d4de6",
   "metadata": {
    "tags": []
   },
   "outputs": [],
   "source": [
    "logs_copy.select(F.substring(F.col('LogDate'), 1, 4)).distinct().show(5)"
   ]
  },
  {
   "cell_type": "code",
   "execution_count": null,
   "id": "862772bf-04fa-47dd-94dd-dd3899c0e7f0",
   "metadata": {
    "tags": []
   },
   "outputs": [],
   "source": [
    "logs_copy.select(\n",
    "    F.col('Duration').alias(\"full_duration\")).show(5, False)"
   ]
  },
  {
   "cell_type": "code",
   "execution_count": 7,
   "id": "d61927c2-7fc1-4976-b53e-28433e4a888f",
   "metadata": {
    "tags": []
   },
   "outputs": [
    {
     "name": "stdout",
     "output_type": "stream",
     "text": [
      "+----------------+----+---+---+-------------+\n",
      "|full            |hour|min|sec|duration_secs|\n",
      "+----------------+----+---+---+-------------+\n",
      "|00:59:52.0000000|0   |59 |52 |3592         |\n",
      "|00:16:31.0000000|0   |16 |31 |991          |\n",
      "|00:13:30.0000000|0   |13 |30 |810          |\n",
      "|00:48:17.0000000|0   |48 |17 |2897         |\n",
      "|00:00:19.0000000|0   |0  |19 |19           |\n",
      "+----------------+----+---+---+-------------+\n",
      "only showing top 5 rows\n",
      "\n"
     ]
    }
   ],
   "source": [
    "logs_copy.select(\n",
    "    F.col('Duration').alias('full'),\n",
    "    F.col('Duration').substr(1,2).cast('int').alias('hour'),\n",
    "    F.col('Duration').substr(4,2).cast('int').alias('min'),\n",
    "    F.col('Duration').substr(7,2).cast('int').alias('sec'),\n",
    "    (F.col('Duration').substr(1,2).cast('int') * 60 * 60 +\n",
    "    F.col('Duration').substr(4,2).cast('int') * 60 +\n",
    "    F.col('Duration').substr(7,2).cast('int')).alias('duration_secs')\n",
    ").distinct().show(5, False)"
   ]
  },
  {
   "cell_type": "code",
   "execution_count": 8,
   "id": "b02e4d75-dc94-418d-9afc-ba0c47395a45",
   "metadata": {
    "tags": []
   },
   "outputs": [],
   "source": [
    "logs_copy = logs.withColumn('duration_secs',\n",
    "F.col('Duration').substr(1,2).cast('int') * 60 * 60 +\n",
    "F.col('Duration').substr(4,2).cast('int') * 60 +\n",
    "F.col('Duration').substr(7,2).cast('int'))"
   ]
  },
  {
   "cell_type": "code",
   "execution_count": null,
   "id": "95af7a75-da5f-418b-a385-d0f6969dad54",
   "metadata": {
    "tags": []
   },
   "outputs": [],
   "source": [
    "logs_copy.printSchema()"
   ]
  },
  {
   "cell_type": "code",
   "execution_count": null,
   "id": "8f90c122-5eba-4a30-b345-b95774a0ff82",
   "metadata": {
    "tags": []
   },
   "outputs": [],
   "source": [
    "logs_copy.select(F.col('Duration'), F.col('duration_secs')).show(5, False)"
   ]
  },
  {
   "cell_type": "code",
   "execution_count": null,
   "id": "060604ed-74ca-400e-aa69-57270c92d5c4",
   "metadata": {
    "tags": []
   },
   "outputs": [],
   "source": [
    "logs_copy = logs_copy.select(*[x.lower() for x in logs_copy.columns])"
   ]
  },
  {
   "cell_type": "code",
   "execution_count": 15,
   "id": "48ae00bc-c357-4b74-84ac-c2cbf02b7f17",
   "metadata": {
    "tags": []
   },
   "outputs": [
    {
     "name": "stdout",
     "output_type": "stream",
     "text": [
      "root\n",
      " |-- broadcastlogid: integer (nullable = true)\n",
      " |-- logserviceid: integer (nullable = true)\n",
      " |-- logdate: timestamp (nullable = true)\n",
      " |-- sequenceno: integer (nullable = true)\n",
      " |-- audiencetargetageid: integer (nullable = true)\n",
      " |-- audiencetargetethnicid: integer (nullable = true)\n",
      " |-- categoryid: integer (nullable = true)\n",
      " |-- closedcaptionid: integer (nullable = true)\n",
      " |-- countryoforiginid: integer (nullable = true)\n",
      " |-- dubdramacreditid: integer (nullable = true)\n",
      " |-- ethnicprogramid: integer (nullable = true)\n",
      " |-- productionsourceid: integer (nullable = true)\n",
      " |-- programclassid: integer (nullable = true)\n",
      " |-- filmclassificationid: integer (nullable = true)\n",
      " |-- exhibitionid: integer (nullable = true)\n",
      " |-- duration: string (nullable = true)\n",
      " |-- endtime: string (nullable = true)\n",
      " |-- logentrydate: timestamp (nullable = true)\n",
      " |-- productionno: string (nullable = true)\n",
      " |-- programtitle: string (nullable = true)\n",
      " |-- starttime: string (nullable = true)\n",
      " |-- subtitle: string (nullable = true)\n",
      " |-- networkaffiliationid: integer (nullable = true)\n",
      " |-- specialattentionid: integer (nullable = true)\n",
      " |-- broadcastoriginpointid: integer (nullable = true)\n",
      " |-- compositionid: integer (nullable = true)\n",
      " |-- producer1: string (nullable = true)\n",
      " |-- producer2: string (nullable = true)\n",
      " |-- language1: integer (nullable = true)\n",
      " |-- language2: integer (nullable = true)\n",
      " |-- duration_secs: integer (nullable = true)\n",
      "\n"
     ]
    }
   ],
   "source": [
    "logs_copy.toDF(*[x.lower() for x in logs_copy.columns]).printSchema()"
   ]
  },
  {
   "cell_type": "code",
   "execution_count": null,
   "id": "91d48070-df4f-41a9-9253-4499c90f7b13",
   "metadata": {
    "tags": []
   },
   "outputs": [],
   "source": [
    "logs_copy.columns"
   ]
  },
  {
   "cell_type": "code",
   "execution_count": null,
   "id": "2904f935-6239-4694-b0dc-bc5294acc8bc",
   "metadata": {
    "tags": []
   },
   "outputs": [],
   "source": [
    "for w in logs_copy.columns:\n",
    "    logs_copy.describe(w).show()"
   ]
  },
  {
   "cell_type": "code",
   "execution_count": null,
   "id": "fed685b8-f7d5-436a-81f4-46aeadc6ed5b",
   "metadata": {
    "tags": []
   },
   "outputs": [],
   "source": [
    "logs_copy.columns"
   ]
  }
 ],
 "metadata": {
  "kernelspec": {
   "display_name": "Python 3 (ipykernel)",
   "language": "python",
   "name": "python3"
  },
  "language_info": {
   "codemirror_mode": {
    "name": "ipython",
    "version": 3
   },
   "file_extension": ".py",
   "mimetype": "text/x-python",
   "name": "python",
   "nbconvert_exporter": "python",
   "pygments_lexer": "ipython3",
   "version": "3.9.0"
  }
 },
 "nbformat": 4,
 "nbformat_minor": 5
}
