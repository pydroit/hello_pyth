{
 "cells": [
  {
   "cell_type": "code",
   "execution_count": null,
   "id": "6a288c3f-5779-4ad0-b317-bb8524de40ce",
   "metadata": {
    "tags": []
   },
   "outputs": [],
   "source": [
    "print(\"Hello World\")"
   ]
  },
  {
   "cell_type": "code",
   "execution_count": null,
   "id": "dc352963-5e2d-43b9-81c9-15909a34a257",
   "metadata": {
    "tags": []
   },
   "outputs": [],
   "source": [
    "!pip install --upgrade jupyterlab-git\n",
    "!jupyter lab build"
   ]
  },
  {
   "cell_type": "code",
   "execution_count": 1,
   "id": "7633dc77-9992-4b88-8ab8-309673c1bac1",
   "metadata": {
    "tags": []
   },
   "outputs": [],
   "source": [
    "from pyspark.sql import SparkSession"
   ]
  },
  {
   "cell_type": "code",
   "execution_count": 2,
   "id": "2eaf0788-31d1-4721-94ba-78359eca9f37",
   "metadata": {
    "tags": []
   },
   "outputs": [
    {
     "name": "stderr",
     "output_type": "stream",
     "text": [
      "Setting default log level to \"WARN\".\n",
      "To adjust logging level use sc.setLogLevel(newLevel). For SparkR, use setLogLevel(newLevel).\n"
     ]
    },
    {
     "name": "stdout",
     "output_type": "stream",
     "text": [
      "23/04/03 12:47:32 WARN NativeCodeLoader: Unable to load native-hadoop library for your platform... using builtin-java classes where applicable\n"
     ]
    }
   ],
   "source": [
    "spark = (SparkSession.builder.appName(\"Checking\").getOrCreate())"
   ]
  }
 ],
 "metadata": {
  "kernelspec": {
   "display_name": "delab-env",
   "language": "python",
   "name": "delab-env"
  },
  "language_info": {
   "codemirror_mode": {
    "name": "ipython",
    "version": 3
   },
   "file_extension": ".py",
   "mimetype": "text/x-python",
   "name": "python",
   "nbconvert_exporter": "python",
   "pygments_lexer": "ipython3",
   "version": "3.9.16"
  }
 },
 "nbformat": 4,
 "nbformat_minor": 5
}
