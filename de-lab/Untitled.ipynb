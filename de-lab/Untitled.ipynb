{
 "cells": [
  {
   "cell_type": "code",
   "execution_count": 1,
   "id": "6a288c3f-5779-4ad0-b317-bb8524de40ce",
   "metadata": {
    "tags": []
   },
   "outputs": [
    {
     "name": "stdout",
     "output_type": "stream",
     "text": [
      "Hello World\n"
     ]
    }
   ],
   "source": [
    "print(\"Hello World\")"
   ]
  },
  {
   "cell_type": "code",
   "execution_count": 2,
   "id": "dc352963-5e2d-43b9-81c9-15909a34a257",
   "metadata": {
    "tags": []
   },
   "outputs": [
    {
     "name": "stdout",
     "output_type": "stream",
     "text": [
      "Collecting jupyterlab-git\n",
      "  Using cached jupyterlab_git-0.41.0-py3-none-any.whl (1.3 MB)\n",
      "Requirement already satisfied: nbformat in ./delab-env/lib/python3.10/site-packages (from jupyterlab-git) (5.7.3)\n",
      "Requirement already satisfied: pexpect in ./delab-env/lib/python3.10/site-packages (from jupyterlab-git) (4.8.0)\n",
      "Requirement already satisfied: packaging in ./delab-env/lib/python3.10/site-packages (from jupyterlab-git) (23.0)\n",
      "Requirement already satisfied: jupyter-server<3,>=1.21.0 in ./delab-env/lib/python3.10/site-packages (from jupyterlab-git) (2.3.0)\n",
      "Collecting nbdime~=3.1\n",
      "  Using cached nbdime-3.1.1-py2.py3-none-any.whl (5.3 MB)\n",
      "Requirement already satisfied: traitlets~=5.0 in ./delab-env/lib/python3.10/site-packages (from jupyterlab-git) (5.9.0)\n",
      "Requirement already satisfied: jupyter-server-terminals in ./delab-env/lib/python3.10/site-packages (from jupyter-server<3,>=1.21.0->jupyterlab-git) (0.4.4)\n",
      "Requirement already satisfied: send2trash in ./delab-env/lib/python3.10/site-packages (from jupyter-server<3,>=1.21.0->jupyterlab-git) (1.8.0)\n",
      "Requirement already satisfied: jinja2 in ./delab-env/lib/python3.10/site-packages (from jupyter-server<3,>=1.21.0->jupyterlab-git) (3.1.2)\n",
      "Requirement already satisfied: terminado>=0.8.3 in ./delab-env/lib/python3.10/site-packages (from jupyter-server<3,>=1.21.0->jupyterlab-git) (0.17.1)\n",
      "Requirement already satisfied: jupyter-client>=7.4.4 in ./delab-env/lib/python3.10/site-packages (from jupyter-server<3,>=1.21.0->jupyterlab-git) (8.0.3)\n",
      "Requirement already satisfied: jupyter-events>=0.4.0 in ./delab-env/lib/python3.10/site-packages (from jupyter-server<3,>=1.21.0->jupyterlab-git) (0.6.3)\n",
      "Requirement already satisfied: anyio>=3.1.0 in ./delab-env/lib/python3.10/site-packages (from jupyter-server<3,>=1.21.0->jupyterlab-git) (3.6.2)\n",
      "Requirement already satisfied: pyzmq>=24 in ./delab-env/lib/python3.10/site-packages (from jupyter-server<3,>=1.21.0->jupyterlab-git) (25.0.0)\n",
      "Requirement already satisfied: argon2-cffi in ./delab-env/lib/python3.10/site-packages (from jupyter-server<3,>=1.21.0->jupyterlab-git) (21.3.0)\n",
      "Requirement already satisfied: tornado>=6.2.0 in ./delab-env/lib/python3.10/site-packages (from jupyter-server<3,>=1.21.0->jupyterlab-git) (6.2)\n",
      "Requirement already satisfied: prometheus-client in ./delab-env/lib/python3.10/site-packages (from jupyter-server<3,>=1.21.0->jupyterlab-git) (0.16.0)\n",
      "Requirement already satisfied: websocket-client in ./delab-env/lib/python3.10/site-packages (from jupyter-server<3,>=1.21.0->jupyterlab-git) (1.5.1)\n",
      "Requirement already satisfied: jupyter-core!=5.0.*,>=4.12 in ./delab-env/lib/python3.10/site-packages (from jupyter-server<3,>=1.21.0->jupyterlab-git) (5.2.0)\n",
      "Requirement already satisfied: nbconvert>=6.4.4 in ./delab-env/lib/python3.10/site-packages (from jupyter-server<3,>=1.21.0->jupyterlab-git) (7.2.9)\n",
      "Collecting colorama\n",
      "  Downloading colorama-0.4.6-py2.py3-none-any.whl (25 kB)\n",
      "Requirement already satisfied: requests in ./delab-env/lib/python3.10/site-packages (from nbdime~=3.1->jupyterlab-git) (2.28.2)\n",
      "Requirement already satisfied: pygments in ./delab-env/lib/python3.10/site-packages (from nbdime~=3.1->jupyterlab-git) (2.14.0)\n",
      "Collecting GitPython!=2.1.4,!=2.1.5,!=2.1.6\n",
      "  Using cached GitPython-3.1.31-py3-none-any.whl (184 kB)\n",
      "Collecting jupyter-server-mathjax>=0.2.2\n",
      "  Using cached jupyter_server_mathjax-0.2.6-py3-none-any.whl (3.1 MB)\n",
      "Requirement already satisfied: jsonschema>=2.6 in ./delab-env/lib/python3.10/site-packages (from nbformat->jupyterlab-git) (4.17.3)\n",
      "Requirement already satisfied: fastjsonschema in ./delab-env/lib/python3.10/site-packages (from nbformat->jupyterlab-git) (2.16.3)\n",
      "Requirement already satisfied: ptyprocess>=0.5 in ./delab-env/lib/python3.10/site-packages (from pexpect->jupyterlab-git) (0.7.0)\n",
      "Requirement already satisfied: sniffio>=1.1 in ./delab-env/lib/python3.10/site-packages (from anyio>=3.1.0->jupyter-server<3,>=1.21.0->jupyterlab-git) (1.3.0)\n",
      "Requirement already satisfied: idna>=2.8 in ./delab-env/lib/python3.10/site-packages (from anyio>=3.1.0->jupyter-server<3,>=1.21.0->jupyterlab-git) (3.4)\n",
      "Collecting gitdb<5,>=4.0.1\n",
      "  Using cached gitdb-4.0.10-py3-none-any.whl (62 kB)\n",
      "Requirement already satisfied: MarkupSafe>=2.0 in ./delab-env/lib/python3.10/site-packages (from jinja2->jupyter-server<3,>=1.21.0->jupyterlab-git) (2.1.2)\n",
      "Requirement already satisfied: attrs>=17.4.0 in ./delab-env/lib/python3.10/site-packages (from jsonschema>=2.6->nbformat->jupyterlab-git) (22.2.0)\n",
      "Requirement already satisfied: pyrsistent!=0.17.0,!=0.17.1,!=0.17.2,>=0.14.0 in ./delab-env/lib/python3.10/site-packages (from jsonschema>=2.6->nbformat->jupyterlab-git) (0.19.3)\n",
      "Requirement already satisfied: python-dateutil>=2.8.2 in ./delab-env/lib/python3.10/site-packages (from jupyter-client>=7.4.4->jupyter-server<3,>=1.21.0->jupyterlab-git) (2.8.2)\n",
      "Requirement already satisfied: platformdirs>=2.5 in ./delab-env/lib/python3.10/site-packages (from jupyter-core!=5.0.*,>=4.12->jupyter-server<3,>=1.21.0->jupyterlab-git) (3.1.0)\n",
      "Requirement already satisfied: pyyaml>=5.3 in ./delab-env/lib/python3.10/site-packages (from jupyter-events>=0.4.0->jupyter-server<3,>=1.21.0->jupyterlab-git) (6.0)\n",
      "Requirement already satisfied: rfc3986-validator>=0.1.1 in ./delab-env/lib/python3.10/site-packages (from jupyter-events>=0.4.0->jupyter-server<3,>=1.21.0->jupyterlab-git) (0.1.1)\n",
      "Requirement already satisfied: rfc3339-validator in ./delab-env/lib/python3.10/site-packages (from jupyter-events>=0.4.0->jupyter-server<3,>=1.21.0->jupyterlab-git) (0.1.4)\n",
      "Requirement already satisfied: python-json-logger>=2.0.4 in ./delab-env/lib/python3.10/site-packages (from jupyter-events>=0.4.0->jupyter-server<3,>=1.21.0->jupyterlab-git) (2.0.7)\n",
      "Requirement already satisfied: beautifulsoup4 in ./delab-env/lib/python3.10/site-packages (from nbconvert>=6.4.4->jupyter-server<3,>=1.21.0->jupyterlab-git) (4.11.2)\n",
      "Requirement already satisfied: bleach in ./delab-env/lib/python3.10/site-packages (from nbconvert>=6.4.4->jupyter-server<3,>=1.21.0->jupyterlab-git) (6.0.0)\n",
      "Requirement already satisfied: pandocfilters>=1.4.1 in ./delab-env/lib/python3.10/site-packages (from nbconvert>=6.4.4->jupyter-server<3,>=1.21.0->jupyterlab-git) (1.5.0)\n",
      "Requirement already satisfied: jupyterlab-pygments in ./delab-env/lib/python3.10/site-packages (from nbconvert>=6.4.4->jupyter-server<3,>=1.21.0->jupyterlab-git) (0.2.2)\n",
      "Requirement already satisfied: tinycss2 in ./delab-env/lib/python3.10/site-packages (from nbconvert>=6.4.4->jupyter-server<3,>=1.21.0->jupyterlab-git) (1.2.1)\n",
      "Requirement already satisfied: mistune<3,>=2.0.3 in ./delab-env/lib/python3.10/site-packages (from nbconvert>=6.4.4->jupyter-server<3,>=1.21.0->jupyterlab-git) (2.0.5)\n",
      "Requirement already satisfied: nbclient>=0.5.0 in ./delab-env/lib/python3.10/site-packages (from nbconvert>=6.4.4->jupyter-server<3,>=1.21.0->jupyterlab-git) (0.7.2)\n",
      "Requirement already satisfied: defusedxml in ./delab-env/lib/python3.10/site-packages (from nbconvert>=6.4.4->jupyter-server<3,>=1.21.0->jupyterlab-git) (0.7.1)\n",
      "Requirement already satisfied: argon2-cffi-bindings in ./delab-env/lib/python3.10/site-packages (from argon2-cffi->jupyter-server<3,>=1.21.0->jupyterlab-git) (21.2.0)\n",
      "Requirement already satisfied: certifi>=2017.4.17 in ./delab-env/lib/python3.10/site-packages (from requests->nbdime~=3.1->jupyterlab-git) (2022.12.7)\n",
      "Requirement already satisfied: charset-normalizer<4,>=2 in ./delab-env/lib/python3.10/site-packages (from requests->nbdime~=3.1->jupyterlab-git) (3.0.1)\n",
      "Requirement already satisfied: urllib3<1.27,>=1.21.1 in ./delab-env/lib/python3.10/site-packages (from requests->nbdime~=3.1->jupyterlab-git) (1.26.14)\n",
      "Collecting smmap<6,>=3.0.1\n",
      "  Using cached smmap-5.0.0-py3-none-any.whl (24 kB)\n",
      "Requirement already satisfied: isoduration in ./delab-env/lib/python3.10/site-packages (from jsonschema>=2.6->nbformat->jupyterlab-git) (20.11.0)\n",
      "Requirement already satisfied: webcolors>=1.11 in ./delab-env/lib/python3.10/site-packages (from jsonschema>=2.6->nbformat->jupyterlab-git) (1.12)\n",
      "Requirement already satisfied: fqdn in ./delab-env/lib/python3.10/site-packages (from jsonschema>=2.6->nbformat->jupyterlab-git) (1.5.1)\n",
      "Requirement already satisfied: uri-template in ./delab-env/lib/python3.10/site-packages (from jsonschema>=2.6->nbformat->jupyterlab-git) (1.2.0)\n",
      "Requirement already satisfied: jsonpointer>1.13 in ./delab-env/lib/python3.10/site-packages (from jsonschema>=2.6->nbformat->jupyterlab-git) (2.3)\n",
      "Requirement already satisfied: six>=1.5 in ./delab-env/lib/python3.10/site-packages (from python-dateutil>=2.8.2->jupyter-client>=7.4.4->jupyter-server<3,>=1.21.0->jupyterlab-git) (1.16.0)\n",
      "Requirement already satisfied: cffi>=1.0.1 in ./delab-env/lib/python3.10/site-packages (from argon2-cffi-bindings->argon2-cffi->jupyter-server<3,>=1.21.0->jupyterlab-git) (1.15.1)\n",
      "Requirement already satisfied: soupsieve>1.2 in ./delab-env/lib/python3.10/site-packages (from beautifulsoup4->nbconvert>=6.4.4->jupyter-server<3,>=1.21.0->jupyterlab-git) (2.4)\n",
      "Requirement already satisfied: webencodings in ./delab-env/lib/python3.10/site-packages (from bleach->nbconvert>=6.4.4->jupyter-server<3,>=1.21.0->jupyterlab-git) (0.5.1)\n",
      "Requirement already satisfied: pycparser in ./delab-env/lib/python3.10/site-packages (from cffi>=1.0.1->argon2-cffi-bindings->argon2-cffi->jupyter-server<3,>=1.21.0->jupyterlab-git) (2.21)\n",
      "Requirement already satisfied: arrow>=0.15.0 in ./delab-env/lib/python3.10/site-packages (from isoduration->jsonschema>=2.6->nbformat->jupyterlab-git) (1.2.3)\n",
      "Installing collected packages: smmap, colorama, gitdb, GitPython, jupyter-server-mathjax, nbdime, jupyterlab-git\n",
      "Successfully installed GitPython-3.1.31 colorama-0.4.6 gitdb-4.0.10 jupyter-server-mathjax-0.2.6 jupyterlab-git-0.41.0 nbdime-3.1.1 smmap-5.0.0\n",
      "[LabBuildApp] JupyterLab 3.6.1\n",
      "[LabBuildApp] Building in /home/ubuntu/environment/repositories/hello_pyth/de-lab/delab-env/share/jupyter/lab\n",
      "[LabBuildApp] Building jupyterlab assets (production, minimized)\n"
     ]
    }
   ],
   "source": [
    "!pip install --upgrade jupyterlab-git\n",
    "!jupyter lab build"
   ]
  }
 ],
 "metadata": {
  "kernelspec": {
   "display_name": "Python 3 (ipykernel)",
   "language": "python",
   "name": "python3"
  },
  "language_info": {
   "codemirror_mode": {
    "name": "ipython",
    "version": 3
   },
   "file_extension": ".py",
   "mimetype": "text/x-python",
   "name": "python",
   "nbconvert_exporter": "python",
   "pygments_lexer": "ipython3",
   "version": "3.10.10"
  }
 },
 "nbformat": 4,
 "nbformat_minor": 5
}
