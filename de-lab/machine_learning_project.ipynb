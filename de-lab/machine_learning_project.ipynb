{
 "cells": [
  {
   "cell_type": "markdown",
   "id": "a1dbf45a-cf74-4304-970a-cf0afba26095",
   "metadata": {},
   "source": [
    "# I am starting an end-to-end machine learning project #"
   ]
  },
  {
   "cell_type": "markdown",
   "id": "bf745c90-accd-44d2-ac9e-c0787ea704f2",
   "metadata": {},
   "source": [
    "### Aims of the project:\n",
    "1. Practice all I am learning\n",
    "2. Add to knowledge\n",
    "3. Reinforce learning\n",
    "###"
   ]
  },
  {
   "cell_type": "code",
   "execution_count": 1,
   "id": "37883417-ad60-4479-83ac-6c8ad45f6497",
   "metadata": {
    "tags": []
   },
   "outputs": [],
   "source": [
    "# Import the data\n",
    "# Create a function to load data from github or other URLs\n",
    "import os\n",
    "import tarfile\n",
    "import urllib"
   ]
  }
 ],
 "metadata": {
  "kernelspec": {
   "display_name": "Python 3 (ipykernel)",
   "language": "python",
   "name": "python3"
  },
  "language_info": {
   "codemirror_mode": {
    "name": "ipython",
    "version": 3
   },
   "file_extension": ".py",
   "mimetype": "text/x-python",
   "name": "python",
   "nbconvert_exporter": "python",
   "pygments_lexer": "ipython3",
   "version": "3.9.0"
  }
 },
 "nbformat": 4,
 "nbformat_minor": 5
}
