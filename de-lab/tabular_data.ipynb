{
 "cells": [
  {
   "cell_type": "code",
   "execution_count": 2,
   "id": "8a1886b8-5444-4df4-9a91-51611be1fd7d",
   "metadata": {
    "tags": []
   },
   "outputs": [],
   "source": [
    "import findspark\n",
    "findspark.init()"
   ]
  },
  {
   "cell_type": "code",
   "execution_count": 3,
   "id": "f7470326-efbd-4a56-b3c7-38c88896a419",
   "metadata": {
    "tags": []
   },
   "outputs": [],
   "source": [
    "from pyspark.sql import SparkSession\n",
    "\n",
    "spark = (SparkSession.builder.\n",
    "         appName(\"working with tabular data\").\n",
    "         getOrCreate())"
   ]
  },
  {
   "cell_type": "code",
   "execution_count": 4,
   "id": "123be6b8-c395-4a85-b84c-d1b9dc648e7d",
   "metadata": {
    "tags": []
   },
   "outputs": [],
   "source": [
    "import os\n",
    "import pyspark.sql.functions as F"
   ]
  },
  {
   "cell_type": "code",
   "execution_count": 5,
   "id": "74b386ce-603c-4525-8283-3016a86f4c02",
   "metadata": {
    "tags": []
   },
   "outputs": [],
   "source": [
    "DIRECTORY = r\"C:\\Users\\oluwa\\Documents\\broadcast_logs\""
   ]
  },
  {
   "cell_type": "code",
   "execution_count": null,
   "id": "2b1687ec-7ac2-43d3-85ba-68c95ec651ff",
   "metadata": {
    "tags": []
   },
   "outputs": [],
   "source": [
    "#%%bash\n",
    "\n",
    "#!ls DIRECTORY\n",
    "files = os.listdir(DIRECTORY)\n",
    "\n",
    "for f in files:\n",
    "    print(f)\n",
    "print(\"-\"*100)\n",
    "for f in files:\n",
    "    print(os.path.join(DIRECTORY, f))"
   ]
  },
  {
   "cell_type": "code",
   "execution_count": 6,
   "id": "774ed705-19c0-4097-97fb-f3ab5c290f68",
   "metadata": {
    "tags": []
   },
   "outputs": [],
   "source": [
    "logs = spark.read.csv(\n",
    "    os.path.join(DIRECTORY, \"BroadcastLogs_2018_Q3_M8.csv\"),\n",
    "    sep = \"|\",\n",
    "    header = True,\n",
    "    inferSchema = True,\n",
    "    timestampFormat = \"yyyy-MM-dd\",\n",
    ")"
   ]
  },
  {
   "cell_type": "code",
   "execution_count": null,
   "id": "4794cfb8-9645-4719-a20b-01027feecaf2",
   "metadata": {
    "tags": []
   },
   "outputs": [],
   "source": [
    "logs.printSchema()"
   ]
  },
  {
   "cell_type": "code",
   "execution_count": null,
   "id": "1cd90288-ec43-4706-87d2-1ded2e6105ec",
   "metadata": {
    "tags": []
   },
   "outputs": [],
   "source": [
    "logs.select(\"BroadcastLogID\", \"LogServiceID\", \"LogDate\").show(5, False)"
   ]
  },
  {
   "cell_type": "code",
   "execution_count": 7,
   "id": "54af16c8-7cb4-4df1-9e9d-7401cba56549",
   "metadata": {
    "tags": []
   },
   "outputs": [],
   "source": [
    "logs = logs.select(*[x for x in logs.columns if x not in [\"BroadcastLogID\", \"LogServiceID\", \"LogDate\"]])"
   ]
  },
  {
   "cell_type": "code",
   "execution_count": null,
   "id": "610166eb-ec9c-45ee-877a-9495916887b1",
   "metadata": {
    "tags": []
   },
   "outputs": [],
   "source": [
    "import pandas as pd\n",
    "\n",
    "\"Language1\" in logs.columns\n",
    "\n",
    "logs.columns"
   ]
  },
  {
   "cell_type": "code",
   "execution_count": null,
   "id": "b67f346b-b8fc-4e24-b6cc-f3d6c3e6b9ab",
   "metadata": {
    "tags": []
   },
   "outputs": [],
   "source": [
    "logs.select('BroadcastLogID',\n",
    " 'LogServiceID',\n",
    " 'LogDate').show(5, truncate=False)"
   ]
  },
  {
   "cell_type": "code",
   "execution_count": 8,
   "id": "530ead09-5ade-4cfd-b0d4-44ee6571191b",
   "metadata": {
    "tags": []
   },
   "outputs": [],
   "source": [
    "#exclude 'BroadcastLogID' and 'SequenceNO' columns\n",
    "\n",
    "logs_copy = logs.select(*[x for x in logs.columns if x not in ['BroadcastLogID', 'SequenceNO', 'LogServiceID']])"
   ]
  },
  {
   "cell_type": "code",
   "execution_count": null,
   "id": "f1824c5a-77b4-456d-8fe1-fa889538198e",
   "metadata": {
    "tags": []
   },
   "outputs": [],
   "source": [
    "logs_copy.columns"
   ]
  },
  {
   "cell_type": "code",
   "execution_count": null,
   "id": "d174de44-6cc6-4bfc-b783-5d322950770a",
   "metadata": {
    "tags": []
   },
   "outputs": [],
   "source": [
    "logs_copy.select(F.col('LogDate')).show(5, False)"
   ]
  },
  {
   "cell_type": "code",
   "execution_count": null,
   "id": "b475af59-1126-44c2-9e6a-eef9090e7273",
   "metadata": {
    "tags": []
   },
   "outputs": [],
   "source": [
    "logs_copy.select(F.substring(F.col('LogDate'), 1, 4)).distinct().show(5)"
   ]
  },
  {
   "cell_type": "code",
   "execution_count": null,
   "id": "51db09fe-0482-4d2e-84c6-2745ccc26a6c",
   "metadata": {
    "tags": []
   },
   "outputs": [],
   "source": [
    "logs_copy.select(\n",
    "    F.col('Duration').alias(\"full_duration\")).show(5, False)"
   ]
  },
  {
   "cell_type": "code",
   "execution_count": null,
   "id": "731b0661-1419-47cf-938a-07054fbeadba",
   "metadata": {
    "tags": []
   },
   "outputs": [],
   "source": [
    "logs_copy.select(\n",
    "    F.col('Duration').alias('full'),\n",
    "    F.col('Duration').substr(1,2).cast('int').alias('hour'),\n",
    "    F.col('Duration').substr(4,2).cast('int').alias('min'),\n",
    "    F.col('Duration').substr(7,2).cast('int').alias('sec'),\n",
    "    (F.col('Duration').substr(1,2).cast('int') * 60 * 60 +\n",
    "    F.col('Duration').substr(4,2).cast('int') * 60 +\n",
    "    F.col('Duration').substr(7,2).cast('int')).alias('duration_secs')\n",
    ").distinct().show(5, False)"
   ]
  },
  {
   "cell_type": "code",
   "execution_count": null,
   "id": "4eedbca1-c57f-4250-9507-ad4c243fadc0",
   "metadata": {
    "tags": []
   },
   "outputs": [],
   "source": [
    "logs_copy = logs.withColumn('duration_secs',\n",
    "F.col('Duration').substr(1,2).cast('int') * 60 * 60 +\n",
    "F.col('Duration').substr(4,2).cast('int') * 60 +\n",
    "F.col('Duration').substr(7,2).cast('int'))"
   ]
  },
  {
   "cell_type": "code",
   "execution_count": null,
   "id": "f5ed583b-7af3-43b8-bd60-40bc34286048",
   "metadata": {
    "tags": []
   },
   "outputs": [],
   "source": [
    "logs_copy.printSchema()"
   ]
  },
  {
   "cell_type": "code",
   "execution_count": null,
   "id": "8088044c-af5e-4e6f-9d78-70f9f5bebb66",
   "metadata": {
    "tags": []
   },
   "outputs": [],
   "source": [
    "logs_copy.select(F.col('Duration'), F.col('duration_secs')).show(5, False)"
   ]
  },
  {
   "cell_type": "code",
   "execution_count": null,
   "id": "f481c921-19f2-470e-bc16-e5bcdd8bd0b9",
   "metadata": {
    "tags": []
   },
   "outputs": [],
   "source": [
    "logs_copy = logs_copy.select(*[x.lower() for x in logs_copy.columns])"
   ]
  },
  {
   "cell_type": "code",
   "execution_count": null,
   "id": "aa0da264-d24f-4631-8b56-34049286f208",
   "metadata": {
    "tags": []
   },
   "outputs": [],
   "source": [
    "logs_copy.printSchema()"
   ]
  },
  {
   "cell_type": "code",
   "execution_count": null,
   "id": "2bea89c9-2423-448b-aecc-63c8facebe0e",
   "metadata": {
    "tags": []
   },
   "outputs": [],
   "source": [
    "logs_copy.columns"
   ]
  },
  {
   "cell_type": "code",
   "execution_count": null,
   "id": "e50922a7-8f3a-411c-88aa-ba8e9068fef9",
   "metadata": {
    "tags": []
   },
   "outputs": [],
   "source": [
    "for w in logs_copy.columns:\n",
    "    logs_copy.describe(w).show()"
   ]
  },
  {
   "cell_type": "code",
   "execution_count": null,
   "id": "ac0efe25-6885-4454-ae1e-8e4e648ee197",
   "metadata": {
    "tags": []
   },
   "outputs": [],
   "source": [
    "logs_copy.select(F.col('LogDate')).show(5)"
   ]
  },
  {
   "cell_type": "code",
   "execution_count": null,
   "id": "8d0f5305-ff38-45e4-a037-f198aa46ca6f",
   "metadata": {},
   "outputs": [],
   "source": [
    "logs_copy = logs.withColumn('duration_secs',\n",
    "F.col('Duration').substr(1,2).cast('int') * 60 * 60 +\n",
    "F.col('Duration').substr(4,2).cast('int') * 60 +\n",
    "F.col('Duration').substr(7,2).cast('int'))"
   ]
  },
  {
   "cell_type": "code",
   "execution_count": 9,
   "id": "2b987473-0fc3-426b-b909-e67eb69da1ad",
   "metadata": {
    "tags": []
   },
   "outputs": [],
   "source": [
    "logs_copy = logs_copy.withColumn('seconds_duration',\n",
    "F.col('Duration').substr(1,2).cast('int')*60*60 +\n",
    "F.col('Duration').substr(4,2).cast('int')*60 +\n",
    "F.col('duration').substr(7,2).cast('int'))"
   ]
  },
  {
   "cell_type": "code",
   "execution_count": null,
   "id": "6d67cce8-ffda-4438-b56a-78c491ecfa35",
   "metadata": {
    "tags": []
   },
   "outputs": [],
   "source": [
    "logs_copy.select(F.col('seconds_duration'), F.col('Duration').substr(1,8)).show(5, False)"
   ]
  },
  {
   "cell_type": "code",
   "execution_count": 10,
   "id": "d01451fb-2768-42f3-a03e-3180bf6fa248",
   "metadata": {
    "tags": []
   },
   "outputs": [],
   "source": [
    "# rename all column headers to lowercase with toDF\n",
    "\n",
    "logs_copy = logs_copy.toDF(*[x.lower() for x in logs_copy.columns])"
   ]
  },
  {
   "cell_type": "code",
   "execution_count": 11,
   "id": "74978302-c8ff-4d89-b158-bb7977e679fb",
   "metadata": {
    "tags": []
   },
   "outputs": [
    {
     "data": {
      "text/plain": [
       "<bound method DataFrame.printSchema of DataFrame[audiencetargetageid: int, audiencetargetethnicid: int, categoryid: int, closedcaptionid: int, countryoforiginid: int, dubdramacreditid: int, ethnicprogramid: int, productionsourceid: int, programclassid: int, filmclassificationid: int, exhibitionid: int, duration: string, endtime: string, logentrydate: timestamp, productionno: string, programtitle: string, starttime: string, subtitle: string, networkaffiliationid: int, specialattentionid: int, broadcastoriginpointid: int, compositionid: int, producer1: string, producer2: string, language1: int, language2: int, seconds_duration: int]>"
      ]
     },
     "execution_count": 11,
     "metadata": {},
     "output_type": "execute_result"
    }
   ],
   "source": [
    "logs_copy.printSchema"
   ]
  }
 ],
 "metadata": {
  "kernelspec": {
   "display_name": "Python 3 (ipykernel)",
   "language": "python",
   "name": "python3"
  },
  "language_info": {
   "codemirror_mode": {
    "name": "ipython",
    "version": 3
   },
   "file_extension": ".py",
   "mimetype": "text/x-python",
   "name": "python",
   "nbconvert_exporter": "python",
   "pygments_lexer": "ipython3",
   "version": "3.9.0"
  }
 },
 "nbformat": 4,
 "nbformat_minor": 5
}
