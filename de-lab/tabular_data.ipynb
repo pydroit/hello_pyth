{
 "cells": [
  {
   "cell_type": "code",
   "execution_count": 1,
   "id": "8a1886b8-5444-4df4-9a91-51611be1fd7d",
   "metadata": {
    "tags": []
   },
   "outputs": [],
   "source": [
    "import findspark\n",
    "findspark.init()"
   ]
  },
  {
   "cell_type": "code",
   "execution_count": 2,
   "id": "f7470326-efbd-4a56-b3c7-38c88896a419",
   "metadata": {
    "tags": []
   },
   "outputs": [],
   "source": [
    "from pyspark.sql import SparkSession\n",
    "\n",
    "spark = (SparkSession.builder.\n",
    "         appName(\"working with tabular data\").\n",
    "         getOrCreate())"
   ]
  },
  {
   "cell_type": "code",
   "execution_count": 3,
   "id": "123be6b8-c395-4a85-b84c-d1b9dc648e7d",
   "metadata": {
    "tags": []
   },
   "outputs": [],
   "source": [
    "import os\n",
    "import pyspark.sql.functions as F"
   ]
  },
  {
   "cell_type": "code",
   "execution_count": 4,
   "id": "74b386ce-603c-4525-8283-3016a86f4c02",
   "metadata": {
    "tags": []
   },
   "outputs": [],
   "source": [
    "DIRECTORY = r\"C:\\Users\\oluwa\\Documents\\broadcast_logs\""
   ]
  },
  {
   "cell_type": "code",
   "execution_count": 7,
   "id": "774ed705-19c0-4097-97fb-f3ab5c290f68",
   "metadata": {
    "tags": []
   },
   "outputs": [],
   "source": [
    "logs = spark.read.csv(\n",
    "    os.path.join(DIRECTORY, \"BroadcastLogs_2018_Q3_M8.csv\"),\n",
    "    sep = \"|\",\n",
    "    header = True,\n",
    "    inferSchema = True,\n",
    "    timestampFormat = \"yyyy-MM-dd\",\n",
    ")"
   ]
  }
 ],
 "metadata": {
  "kernelspec": {
   "display_name": "Python 3 (ipykernel)",
   "language": "python",
   "name": "python3"
  },
  "language_info": {
   "codemirror_mode": {
    "name": "ipython",
    "version": 3
   },
   "file_extension": ".py",
   "mimetype": "text/x-python",
   "name": "python",
   "nbconvert_exporter": "python",
   "pygments_lexer": "ipython3",
   "version": "3.9.0"
  }
 },
 "nbformat": 4,
 "nbformat_minor": 5
}
