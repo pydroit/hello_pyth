{
 "cells": [
  {
   "cell_type": "code",
   "execution_count": 1,
   "id": "8a1886b8-5444-4df4-9a91-51611be1fd7d",
   "metadata": {
    "tags": []
   },
   "outputs": [],
   "source": [
    "import findspark\n",
    "findspark.init()"
   ]
  },
  {
   "cell_type": "code",
   "execution_count": 2,
   "id": "f7470326-efbd-4a56-b3c7-38c88896a419",
   "metadata": {
    "tags": []
   },
   "outputs": [],
   "source": [
    "from pyspark.sql import SparkSession\n",
    "\n",
    "spark = (SparkSession.builder.\n",
    "         appName(\"working with tabular data\").\n",
    "         getOrCreate())"
   ]
  },
  {
   "cell_type": "code",
   "execution_count": 3,
   "id": "123be6b8-c395-4a85-b84c-d1b9dc648e7d",
   "metadata": {
    "tags": []
   },
   "outputs": [],
   "source": [
    "import os\n",
    "import pyspark.sql.functions as F"
   ]
  },
  {
   "cell_type": "code",
   "execution_count": 4,
   "id": "74b386ce-603c-4525-8283-3016a86f4c02",
   "metadata": {
    "tags": []
   },
   "outputs": [],
   "source": [
    "DIRECTORY = r\"C:\\Users\\oluwa\\Documents\\broadcast_logs\""
   ]
  },
  {
   "cell_type": "code",
   "execution_count": 5,
   "id": "2b1687ec-7ac2-43d3-85ba-68c95ec651ff",
   "metadata": {
    "tags": []
   },
   "outputs": [
    {
     "name": "stdout",
     "output_type": "stream",
     "text": [
      "BroadcastLogs_2018_Q3_M8.CSV\n",
      "BroadcastLogs_2018_Q3_M8_sample.CSV\n",
      "data dictionary.doc\n",
      "ReferenceTables\n",
      "----------------------------------------------------------------------------------------------------\n",
      "C:\\Users\\oluwa\\Documents\\broadcast_logs\\BroadcastLogs_2018_Q3_M8.CSV\n",
      "C:\\Users\\oluwa\\Documents\\broadcast_logs\\BroadcastLogs_2018_Q3_M8_sample.CSV\n",
      "C:\\Users\\oluwa\\Documents\\broadcast_logs\\data dictionary.doc\n",
      "C:\\Users\\oluwa\\Documents\\broadcast_logs\\ReferenceTables\n"
     ]
    }
   ],
   "source": [
    "#%%bash\n",
    "\n",
    "#!ls DIRECTORY\n",
    "files = os.listdir(DIRECTORY)\n",
    "\n",
    "for f in files:\n",
    "    print(f)\n",
    "print(\"-\"*100)\n",
    "for f in files:\n",
    "    print(os.path.join(DIRECTORY, f))"
   ]
  },
  {
   "cell_type": "code",
   "execution_count": 6,
   "id": "774ed705-19c0-4097-97fb-f3ab5c290f68",
   "metadata": {
    "tags": []
   },
   "outputs": [],
   "source": [
    "logs = spark.read.csv(\n",
    "    os.path.join(DIRECTORY, \"BroadcastLogs_2018_Q3_M8.csv\"),\n",
    "    sep = \"|\",\n",
    "    header = True,\n",
    "    inferSchema = True,\n",
    "    timestampFormat = \"yyyy-MM-dd\",\n",
    ")"
   ]
  },
  {
   "cell_type": "code",
   "execution_count": null,
   "id": "4794cfb8-9645-4719-a20b-01027feecaf2",
   "metadata": {
    "tags": []
   },
   "outputs": [],
   "source": [
    "logs.printSchema()"
   ]
  },
  {
   "cell_type": "code",
   "execution_count": null,
   "id": "1cd90288-ec43-4706-87d2-1ded2e6105ec",
   "metadata": {
    "tags": []
   },
   "outputs": [],
   "source": [
    "logs.select(\"BroadcastLogID\", \"LogServiceID\", \"LogDate\").show(5, False)"
   ]
  },
  {
   "cell_type": "code",
   "execution_count": null,
   "id": "54af16c8-7cb4-4df1-9e9d-7401cba56549",
   "metadata": {
    "tags": []
   },
   "outputs": [],
   "source": [
    "logs = logs.select(*[x for x in logs.columns if x not in [\"BroadcastLogID\", \"LogServiceID\", \"LogDate\"]])"
   ]
  },
  {
   "cell_type": "code",
   "execution_count": null,
   "id": "610166eb-ec9c-45ee-877a-9495916887b1",
   "metadata": {
    "tags": []
   },
   "outputs": [],
   "source": [
    "import pandas as pd\n",
    "\n",
    "\"Language1\" in logs.columns\n",
    "\n",
    "logs.columns"
   ]
  },
  {
   "cell_type": "code",
   "execution_count": 7,
   "id": "b67f346b-b8fc-4e24-b6cc-f3d6c3e6b9ab",
   "metadata": {
    "tags": []
   },
   "outputs": [
    {
     "name": "stdout",
     "output_type": "stream",
     "text": [
      "+--------------+------------+-------------------+\n",
      "|BroadcastLogID|LogServiceID|LogDate            |\n",
      "+--------------+------------+-------------------+\n",
      "|1196192316    |3157        |2018-08-01 00:00:00|\n",
      "|1196192317    |3157        |2018-08-01 00:00:00|\n",
      "|1196192318    |3157        |2018-08-01 00:00:00|\n",
      "|1196192319    |3157        |2018-08-01 00:00:00|\n",
      "|1196192320    |3157        |2018-08-01 00:00:00|\n",
      "+--------------+------------+-------------------+\n",
      "only showing top 5 rows\n",
      "\n"
     ]
    }
   ],
   "source": [
    "logs.select('BroadcastLogID',\n",
    " 'LogServiceID',\n",
    " 'LogDate').show(5, truncate=False)"
   ]
  },
  {
   "cell_type": "code",
   "execution_count": 8,
   "id": "530ead09-5ade-4cfd-b0d4-44ee6571191b",
   "metadata": {
    "tags": []
   },
   "outputs": [],
   "source": [
    "#exclude 'BroadcastLogID' and 'SequenceNO' columns\n",
    "\n",
    "logs_copy = logs.select(*[x for x in logs.columns if x not in ['BroadcastLogID', 'SequenceNO', 'LogServiceID']])"
   ]
  },
  {
   "cell_type": "code",
   "execution_count": null,
   "id": "f1824c5a-77b4-456d-8fe1-fa889538198e",
   "metadata": {
    "tags": []
   },
   "outputs": [],
   "source": [
    "logs_copy.columns"
   ]
  },
  {
   "cell_type": "code",
   "execution_count": 9,
   "id": "d174de44-6cc6-4bfc-b783-5d322950770a",
   "metadata": {
    "tags": []
   },
   "outputs": [
    {
     "name": "stdout",
     "output_type": "stream",
     "text": [
      "+-------------------+\n",
      "|LogDate            |\n",
      "+-------------------+\n",
      "|2018-08-01 00:00:00|\n",
      "|2018-08-01 00:00:00|\n",
      "|2018-08-01 00:00:00|\n",
      "|2018-08-01 00:00:00|\n",
      "|2018-08-01 00:00:00|\n",
      "+-------------------+\n",
      "only showing top 5 rows\n",
      "\n"
     ]
    }
   ],
   "source": [
    "logs_copy.select(F.col('LogDate')).show(5, False)"
   ]
  },
  {
   "cell_type": "code",
   "execution_count": 10,
   "id": "b475af59-1126-44c2-9e6a-eef9090e7273",
   "metadata": {
    "tags": []
   },
   "outputs": [
    {
     "name": "stdout",
     "output_type": "stream",
     "text": [
      "+------------------------+\n",
      "|substring(LogDate, 1, 4)|\n",
      "+------------------------+\n",
      "|                    2018|\n",
      "+------------------------+\n",
      "\n"
     ]
    }
   ],
   "source": [
    "logs_copy.select(F.substring(F.col('LogDate'), 1, 4)).distinct().show(5)"
   ]
  },
  {
   "cell_type": "code",
   "execution_count": null,
   "id": "51db09fe-0482-4d2e-84c6-2745ccc26a6c",
   "metadata": {
    "tags": []
   },
   "outputs": [],
   "source": [
    "logs_copy.select(\n",
    "    F.col('Duration').alias(\"full_duration\")).show(5, False)"
   ]
  },
  {
   "cell_type": "code",
   "execution_count": 11,
   "id": "731b0661-1419-47cf-938a-07054fbeadba",
   "metadata": {
    "tags": []
   },
   "outputs": [
    {
     "name": "stdout",
     "output_type": "stream",
     "text": [
      "+----------------+----+---+---+-------------+\n",
      "|full            |hour|min|sec|duration_secs|\n",
      "+----------------+----+---+---+-------------+\n",
      "|00:59:52.0000000|0   |59 |52 |3592         |\n",
      "|00:16:31.0000000|0   |16 |31 |991          |\n",
      "|00:13:30.0000000|0   |13 |30 |810          |\n",
      "|00:48:17.0000000|0   |48 |17 |2897         |\n",
      "|00:00:19.0000000|0   |0  |19 |19           |\n",
      "+----------------+----+---+---+-------------+\n",
      "only showing top 5 rows\n",
      "\n"
     ]
    }
   ],
   "source": [
    "logs_copy.select(\n",
    "    F.col('Duration').alias('full'),\n",
    "    F.col('Duration').substr(1,2).cast('int').alias('hour'),\n",
    "    F.col('Duration').substr(4,2).cast('int').alias('min'),\n",
    "    F.col('Duration').substr(7,2).cast('int').alias('sec'),\n",
    "    (F.col('Duration').substr(1,2).cast('int') * 60 * 60 +\n",
    "    F.col('Duration').substr(4,2).cast('int') * 60 +\n",
    "    F.col('Duration').substr(7,2).cast('int')).alias('duration_secs')\n",
    ").distinct().show(5, False)"
   ]
  },
  {
   "cell_type": "code",
   "execution_count": 12,
   "id": "4eedbca1-c57f-4250-9507-ad4c243fadc0",
   "metadata": {
    "tags": []
   },
   "outputs": [],
   "source": [
    "logs_copy = logs.withColumn('duration_secs',\n",
    "F.col('Duration').substr(1,2).cast('int') * 60 * 60 +\n",
    "F.col('Duration').substr(4,2).cast('int') * 60 +\n",
    "F.col('Duration').substr(7,2).cast('int'))"
   ]
  },
  {
   "cell_type": "code",
   "execution_count": null,
   "id": "f5ed583b-7af3-43b8-bd60-40bc34286048",
   "metadata": {
    "tags": []
   },
   "outputs": [],
   "source": [
    "logs_copy.printSchema()"
   ]
  },
  {
   "cell_type": "code",
   "execution_count": null,
   "id": "8088044c-af5e-4e6f-9d78-70f9f5bebb66",
   "metadata": {
    "tags": []
   },
   "outputs": [],
   "source": [
    "logs_copy.select(F.col('Duration'), F.col('duration_secs')).show(5, False)"
   ]
  },
  {
   "cell_type": "code",
   "execution_count": null,
   "id": "f481c921-19f2-470e-bc16-e5bcdd8bd0b9",
   "metadata": {
    "tags": []
   },
   "outputs": [],
   "source": [
    "logs_copy = logs_copy.select(*[x.lower() for x in logs_copy.columns])"
   ]
  },
  {
   "cell_type": "code",
   "execution_count": null,
   "id": "aa0da264-d24f-4631-8b56-34049286f208",
   "metadata": {
    "tags": []
   },
   "outputs": [],
   "source": [
    "logs_copy.printSchema()"
   ]
  },
  {
   "cell_type": "code",
   "execution_count": null,
   "id": "2bea89c9-2423-448b-aecc-63c8facebe0e",
   "metadata": {
    "tags": []
   },
   "outputs": [],
   "source": [
    "logs_copy.columns"
   ]
  },
  {
   "cell_type": "code",
   "execution_count": 13,
   "id": "e50922a7-8f3a-411c-88aa-ba8e9068fef9",
   "metadata": {
    "collapsed": true,
    "jupyter": {
     "outputs_hidden": true
    },
    "tags": []
   },
   "outputs": [
    {
     "name": "stdout",
     "output_type": "stream",
     "text": [
      "+-------+--------------------+\n",
      "|summary|      BroadcastLogID|\n",
      "+-------+--------------------+\n",
      "|  count|             7169318|\n",
      "|   mean|1.2168893983502293E9|\n",
      "| stddev|1.4982198462892085E7|\n",
      "|    min|          1195788151|\n",
      "|    max|          1249453843|\n",
      "+-------+--------------------+\n",
      "\n",
      "+-------+------------------+\n",
      "|summary|      LogServiceID|\n",
      "+-------+------------------+\n",
      "|  count|           7169318|\n",
      "|   mean|3453.8804215407936|\n",
      "| stddev|200.44137201583823|\n",
      "|    min|              3157|\n",
      "|    max|              3925|\n",
      "+-------+------------------+\n",
      "\n",
      "+-------+\n",
      "|summary|\n",
      "+-------+\n",
      "|  count|\n",
      "|   mean|\n",
      "| stddev|\n",
      "|    min|\n",
      "|    max|\n",
      "+-------+\n",
      "\n",
      "+-------+------------------+\n",
      "|summary|        SequenceNO|\n",
      "+-------+------------------+\n",
      "|  count|           7169318|\n",
      "|   mean|13976.638132943748|\n",
      "| stddev|  9330.05576809833|\n",
      "|    min|                 1|\n",
      "|    max|             41126|\n",
      "+-------+------------------+\n",
      "\n",
      "+-------+-------------------+\n",
      "|summary|AudienceTargetAgeID|\n",
      "+-------+-------------------+\n",
      "|  count|             482674|\n",
      "|   mean| 3.4819298325577925|\n",
      "| stddev| 1.0446667834126653|\n",
      "|    min|                  1|\n",
      "|    max|                  4|\n",
      "+-------+-------------------+\n",
      "\n",
      "+-------+----------------------+\n",
      "|summary|AudienceTargetEthnicID|\n",
      "+-------+----------------------+\n",
      "|  count|                 51613|\n",
      "|   mean|    123.54631585065778|\n",
      "| stddev|     75.27489503133556|\n",
      "|    min|                     4|\n",
      "|    max|                   337|\n",
      "+-------+----------------------+\n",
      "\n",
      "+-------+-----------------+\n",
      "|summary|       CategoryID|\n",
      "+-------+-----------------+\n",
      "|  count|           776154|\n",
      "|   mean|18.67642632776485|\n",
      "| stddev|9.591370194727805|\n",
      "|    min|                1|\n",
      "|    max|               29|\n",
      "+-------+-----------------+\n",
      "\n",
      "+-------+-------------------+\n",
      "|summary|    ClosedCaptionID|\n",
      "+-------+-------------------+\n",
      "|  count|            6724012|\n",
      "|   mean| 1.0324504179944949|\n",
      "| stddev|0.25268095918709527|\n",
      "|    min|                  1|\n",
      "|    max|                  3|\n",
      "+-------+-------------------+\n",
      "\n",
      "+-------+------------------+\n",
      "|summary| CountryOfOriginID|\n",
      "+-------+------------------+\n",
      "|  count|            533909|\n",
      "|   mean| 4.068927476405155|\n",
      "| stddev|2.6156650806304276|\n",
      "|    min|                 2|\n",
      "|    max|                11|\n",
      "+-------+------------------+\n",
      "\n",
      "+-------+------------------+\n",
      "|summary|  DubDramaCreditID|\n",
      "+-------+------------------+\n",
      "|  count|              8385|\n",
      "|   mean| 4.719260584376864|\n",
      "| stddev|3.4049095148541566|\n",
      "|    min|                 1|\n",
      "|    max|                10|\n",
      "+-------+------------------+\n",
      "\n",
      "+-------+------------------+\n",
      "|summary|   EthnicProgramID|\n",
      "+-------+------------------+\n",
      "|  count|             56920|\n",
      "|   mean| 4.296416022487702|\n",
      "| stddev|2.3003030761497234|\n",
      "|    min|                 1|\n",
      "|    max|                 6|\n",
      "+-------+------------------+\n",
      "\n"
     ]
    },
    {
     "name": "stderr",
     "output_type": "stream",
     "text": [
      "ERROR:root:KeyboardInterrupt while sending command.\n",
      "Traceback (most recent call last):\n",
      "  File \"C:\\PySpark\\spark-3.3.2-bin-hadoop2\\python\\lib\\py4j-0.10.9.5-src.zip\\py4j\\java_gateway.py\", line 1038, in send_command\n",
      "    response = connection.send_command(command)\n",
      "  File \"C:\\PySpark\\spark-3.3.2-bin-hadoop2\\python\\lib\\py4j-0.10.9.5-src.zip\\py4j\\clientserver.py\", line 511, in send_command\n",
      "    answer = smart_decode(self.stream.readline()[:-1])\n",
      "  File \"c:\\users\\oluwa\\appdata\\local\\programs\\python\\python39\\lib\\socket.py\", line 704, in readinto\n",
      "    return self._sock.recv_into(b)\n",
      "KeyboardInterrupt\n"
     ]
    },
    {
     "ename": "KeyboardInterrupt",
     "evalue": "",
     "output_type": "error",
     "traceback": [
      "\u001b[1;31m---------------------------------------------------------------------------\u001b[0m",
      "\u001b[1;31mKeyboardInterrupt\u001b[0m                         Traceback (most recent call last)",
      "Cell \u001b[1;32mIn[13], line 2\u001b[0m\n\u001b[0;32m      1\u001b[0m \u001b[38;5;28;01mfor\u001b[39;00m w \u001b[38;5;129;01min\u001b[39;00m logs_copy\u001b[38;5;241m.\u001b[39mcolumns:\n\u001b[1;32m----> 2\u001b[0m     \u001b[43mlogs_copy\u001b[49m\u001b[38;5;241;43m.\u001b[39;49m\u001b[43mdescribe\u001b[49m\u001b[43m(\u001b[49m\u001b[43mw\u001b[49m\u001b[43m)\u001b[49m\u001b[38;5;241m.\u001b[39mshow()\n",
      "File \u001b[1;32mC:\\PySpark\\spark-3.3.2-bin-hadoop2\\python\\pyspark\\sql\\dataframe.py:1825\u001b[0m, in \u001b[0;36mDataFrame.describe\u001b[1;34m(self, *cols)\u001b[0m\n\u001b[0;32m   1823\u001b[0m \u001b[38;5;28;01mif\u001b[39;00m \u001b[38;5;28mlen\u001b[39m(cols) \u001b[38;5;241m==\u001b[39m \u001b[38;5;241m1\u001b[39m \u001b[38;5;129;01mand\u001b[39;00m \u001b[38;5;28misinstance\u001b[39m(cols[\u001b[38;5;241m0\u001b[39m], \u001b[38;5;28mlist\u001b[39m):\n\u001b[0;32m   1824\u001b[0m     cols \u001b[38;5;241m=\u001b[39m cols[\u001b[38;5;241m0\u001b[39m]  \u001b[38;5;66;03m# type: ignore[assignment]\u001b[39;00m\n\u001b[1;32m-> 1825\u001b[0m jdf \u001b[38;5;241m=\u001b[39m \u001b[38;5;28;43mself\u001b[39;49m\u001b[38;5;241;43m.\u001b[39;49m\u001b[43m_jdf\u001b[49m\u001b[38;5;241;43m.\u001b[39;49m\u001b[43mdescribe\u001b[49m\u001b[43m(\u001b[49m\u001b[38;5;28;43mself\u001b[39;49m\u001b[38;5;241;43m.\u001b[39;49m\u001b[43m_jseq\u001b[49m\u001b[43m(\u001b[49m\u001b[43mcols\u001b[49m\u001b[43m)\u001b[49m\u001b[43m)\u001b[49m\n\u001b[0;32m   1826\u001b[0m \u001b[38;5;28;01mreturn\u001b[39;00m DataFrame(jdf, \u001b[38;5;28mself\u001b[39m\u001b[38;5;241m.\u001b[39msparkSession)\n",
      "File \u001b[1;32mC:\\PySpark\\spark-3.3.2-bin-hadoop2\\python\\lib\\py4j-0.10.9.5-src.zip\\py4j\\java_gateway.py:1320\u001b[0m, in \u001b[0;36mJavaMember.__call__\u001b[1;34m(self, *args)\u001b[0m\n\u001b[0;32m   1313\u001b[0m args_command, temp_args \u001b[38;5;241m=\u001b[39m \u001b[38;5;28mself\u001b[39m\u001b[38;5;241m.\u001b[39m_build_args(\u001b[38;5;241m*\u001b[39margs)\n\u001b[0;32m   1315\u001b[0m command \u001b[38;5;241m=\u001b[39m proto\u001b[38;5;241m.\u001b[39mCALL_COMMAND_NAME \u001b[38;5;241m+\u001b[39m\\\n\u001b[0;32m   1316\u001b[0m     \u001b[38;5;28mself\u001b[39m\u001b[38;5;241m.\u001b[39mcommand_header \u001b[38;5;241m+\u001b[39m\\\n\u001b[0;32m   1317\u001b[0m     args_command \u001b[38;5;241m+\u001b[39m\\\n\u001b[0;32m   1318\u001b[0m     proto\u001b[38;5;241m.\u001b[39mEND_COMMAND_PART\n\u001b[1;32m-> 1320\u001b[0m answer \u001b[38;5;241m=\u001b[39m \u001b[38;5;28;43mself\u001b[39;49m\u001b[38;5;241;43m.\u001b[39;49m\u001b[43mgateway_client\u001b[49m\u001b[38;5;241;43m.\u001b[39;49m\u001b[43msend_command\u001b[49m\u001b[43m(\u001b[49m\u001b[43mcommand\u001b[49m\u001b[43m)\u001b[49m\n\u001b[0;32m   1321\u001b[0m return_value \u001b[38;5;241m=\u001b[39m get_return_value(\n\u001b[0;32m   1322\u001b[0m     answer, \u001b[38;5;28mself\u001b[39m\u001b[38;5;241m.\u001b[39mgateway_client, \u001b[38;5;28mself\u001b[39m\u001b[38;5;241m.\u001b[39mtarget_id, \u001b[38;5;28mself\u001b[39m\u001b[38;5;241m.\u001b[39mname)\n\u001b[0;32m   1324\u001b[0m \u001b[38;5;28;01mfor\u001b[39;00m temp_arg \u001b[38;5;129;01min\u001b[39;00m temp_args:\n",
      "File \u001b[1;32mC:\\PySpark\\spark-3.3.2-bin-hadoop2\\python\\lib\\py4j-0.10.9.5-src.zip\\py4j\\java_gateway.py:1038\u001b[0m, in \u001b[0;36mGatewayClient.send_command\u001b[1;34m(self, command, retry, binary)\u001b[0m\n\u001b[0;32m   1036\u001b[0m connection \u001b[38;5;241m=\u001b[39m \u001b[38;5;28mself\u001b[39m\u001b[38;5;241m.\u001b[39m_get_connection()\n\u001b[0;32m   1037\u001b[0m \u001b[38;5;28;01mtry\u001b[39;00m:\n\u001b[1;32m-> 1038\u001b[0m     response \u001b[38;5;241m=\u001b[39m \u001b[43mconnection\u001b[49m\u001b[38;5;241;43m.\u001b[39;49m\u001b[43msend_command\u001b[49m\u001b[43m(\u001b[49m\u001b[43mcommand\u001b[49m\u001b[43m)\u001b[49m\n\u001b[0;32m   1039\u001b[0m     \u001b[38;5;28;01mif\u001b[39;00m binary:\n\u001b[0;32m   1040\u001b[0m         \u001b[38;5;28;01mreturn\u001b[39;00m response, \u001b[38;5;28mself\u001b[39m\u001b[38;5;241m.\u001b[39m_create_connection_guard(connection)\n",
      "File \u001b[1;32mC:\\PySpark\\spark-3.3.2-bin-hadoop2\\python\\lib\\py4j-0.10.9.5-src.zip\\py4j\\clientserver.py:511\u001b[0m, in \u001b[0;36mClientServerConnection.send_command\u001b[1;34m(self, command)\u001b[0m\n\u001b[0;32m    509\u001b[0m \u001b[38;5;28;01mtry\u001b[39;00m:\n\u001b[0;32m    510\u001b[0m     \u001b[38;5;28;01mwhile\u001b[39;00m \u001b[38;5;28;01mTrue\u001b[39;00m:\n\u001b[1;32m--> 511\u001b[0m         answer \u001b[38;5;241m=\u001b[39m smart_decode(\u001b[38;5;28;43mself\u001b[39;49m\u001b[38;5;241;43m.\u001b[39;49m\u001b[43mstream\u001b[49m\u001b[38;5;241;43m.\u001b[39;49m\u001b[43mreadline\u001b[49m\u001b[43m(\u001b[49m\u001b[43m)\u001b[49m[:\u001b[38;5;241m-\u001b[39m\u001b[38;5;241m1\u001b[39m])\n\u001b[0;32m    512\u001b[0m         logger\u001b[38;5;241m.\u001b[39mdebug(\u001b[38;5;124m\"\u001b[39m\u001b[38;5;124mAnswer received: \u001b[39m\u001b[38;5;132;01m{0}\u001b[39;00m\u001b[38;5;124m\"\u001b[39m\u001b[38;5;241m.\u001b[39mformat(answer))\n\u001b[0;32m    513\u001b[0m         \u001b[38;5;66;03m# Happens when a the other end is dead. There might be an empty\u001b[39;00m\n\u001b[0;32m    514\u001b[0m         \u001b[38;5;66;03m# answer before the socket raises an error.\u001b[39;00m\n",
      "File \u001b[1;32mc:\\users\\oluwa\\appdata\\local\\programs\\python\\python39\\lib\\socket.py:704\u001b[0m, in \u001b[0;36mSocketIO.readinto\u001b[1;34m(self, b)\u001b[0m\n\u001b[0;32m    702\u001b[0m \u001b[38;5;28;01mwhile\u001b[39;00m \u001b[38;5;28;01mTrue\u001b[39;00m:\n\u001b[0;32m    703\u001b[0m     \u001b[38;5;28;01mtry\u001b[39;00m:\n\u001b[1;32m--> 704\u001b[0m         \u001b[38;5;28;01mreturn\u001b[39;00m \u001b[38;5;28;43mself\u001b[39;49m\u001b[38;5;241;43m.\u001b[39;49m\u001b[43m_sock\u001b[49m\u001b[38;5;241;43m.\u001b[39;49m\u001b[43mrecv_into\u001b[49m\u001b[43m(\u001b[49m\u001b[43mb\u001b[49m\u001b[43m)\u001b[49m\n\u001b[0;32m    705\u001b[0m     \u001b[38;5;28;01mexcept\u001b[39;00m timeout:\n\u001b[0;32m    706\u001b[0m         \u001b[38;5;28mself\u001b[39m\u001b[38;5;241m.\u001b[39m_timeout_occurred \u001b[38;5;241m=\u001b[39m \u001b[38;5;28;01mTrue\u001b[39;00m\n",
      "\u001b[1;31mKeyboardInterrupt\u001b[0m: "
     ]
    }
   ],
   "source": [
    "for w in logs_copy.columns:\n",
    "    logs_copy.describe(w).show()"
   ]
  },
  {
   "cell_type": "code",
   "execution_count": 17,
   "id": "ac0efe25-6885-4454-ae1e-8e4e648ee197",
   "metadata": {
    "tags": []
   },
   "outputs": [
    {
     "name": "stdout",
     "output_type": "stream",
     "text": [
      "+-------------------+\n",
      "|            LogDate|\n",
      "+-------------------+\n",
      "|2018-08-01 00:00:00|\n",
      "|2018-08-01 00:00:00|\n",
      "|2018-08-01 00:00:00|\n",
      "|2018-08-01 00:00:00|\n",
      "|2018-08-01 00:00:00|\n",
      "+-------------------+\n",
      "only showing top 5 rows\n",
      "\n"
     ]
    }
   ],
   "source": [
    "logs_copy.select(F.col('LogDate')).show(5)"
   ]
  },
  {
   "cell_type": "code",
   "execution_count": null,
   "id": "8d0f5305-ff38-45e4-a037-f198aa46ca6f",
   "metadata": {},
   "outputs": [],
   "source": [
    "logs_copy = logs.withColumn('duration_secs',\n",
    "F.col('Duration').substr(1,2).cast('int') * 60 * 60 +\n",
    "F.col('Duration').substr(4,2).cast('int') * 60 +\n",
    "F.col('Duration').substr(7,2).cast('int'))"
   ]
  },
  {
   "cell_type": "code",
   "execution_count": 31,
   "id": "2b987473-0fc3-426b-b909-e67eb69da1ad",
   "metadata": {
    "tags": []
   },
   "outputs": [],
   "source": [
    "logs_copy = logs_copy.withColumn('seconds_duration',\n",
    "F.col('Duration').substr(1,2).cast('int')*60*60 +\n",
    "F.col('Duration').substr(4,2).cast('int')*60 +\n",
    "F.col('duration').substr(7,2).cast('int'))"
   ]
  },
  {
   "cell_type": "code",
   "execution_count": 35,
   "id": "6d67cce8-ffda-4438-b56a-78c491ecfa35",
   "metadata": {
    "tags": []
   },
   "outputs": [
    {
     "name": "stdout",
     "output_type": "stream",
     "text": [
      "+----------------+-------------------------+\n",
      "|seconds_duration|substring(Duration, 1, 8)|\n",
      "+----------------+-------------------------+\n",
      "|7200            |02:00:00                 |\n",
      "|30              |00:00:30                 |\n",
      "|15              |00:00:15                 |\n",
      "|15              |00:00:15                 |\n",
      "|15              |00:00:15                 |\n",
      "+----------------+-------------------------+\n",
      "only showing top 5 rows\n",
      "\n"
     ]
    }
   ],
   "source": [
    "logs_copy.select(F.col('seconds_duration'), F.col('Duration').substr(1,8)).show(5, False)"
   ]
  }
 ],
 "metadata": {
  "kernelspec": {
   "display_name": "Python 3 (ipykernel)",
   "language": "python",
   "name": "python3"
  },
  "language_info": {
   "codemirror_mode": {
    "name": "ipython",
    "version": 3
   },
   "file_extension": ".py",
   "mimetype": "text/x-python",
   "name": "python",
   "nbconvert_exporter": "python",
   "pygments_lexer": "ipython3",
   "version": "3.9.0"
  }
 },
 "nbformat": 4,
 "nbformat_minor": 5
}
