{
 "cells": [
  {
   "cell_type": "code",
   "execution_count": 1,
   "id": "8a1886b8-5444-4df4-9a91-51611be1fd7d",
   "metadata": {
    "tags": []
   },
   "outputs": [],
   "source": [
    "import findspark\n",
    "findspark.init()"
   ]
  },
  {
   "cell_type": "code",
   "execution_count": 2,
   "id": "f7470326-efbd-4a56-b3c7-38c88896a419",
   "metadata": {
    "tags": []
   },
   "outputs": [],
   "source": [
    "from pyspark.sql import SparkSession\n",
    "\n",
    "spark = (SparkSession.builder.\n",
    "         appName(\"working with tabular data\").\n",
    "         getOrCreate())"
   ]
  },
  {
   "cell_type": "code",
   "execution_count": 3,
   "id": "123be6b8-c395-4a85-b84c-d1b9dc648e7d",
   "metadata": {
    "tags": []
   },
   "outputs": [],
   "source": [
    "import os\n",
    "import pyspark.sql.functions as F"
   ]
  },
  {
   "cell_type": "code",
   "execution_count": 4,
   "id": "74b386ce-603c-4525-8283-3016a86f4c02",
   "metadata": {
    "tags": []
   },
   "outputs": [],
   "source": [
    "DIRECTORY = r\"C:\\Users\\oluwa\\Documents\\broadcast_logs\""
   ]
  },
  {
   "cell_type": "code",
   "execution_count": 5,
   "id": "2b1687ec-7ac2-43d3-85ba-68c95ec651ff",
   "metadata": {
    "tags": []
   },
   "outputs": [
    {
     "name": "stdout",
     "output_type": "stream",
     "text": [
      "BroadcastLogs_2018_Q3_M8.CSV\n",
      "BroadcastLogs_2018_Q3_M8_sample.CSV\n",
      "data dictionary.doc\n",
      "ReferenceTables\n",
      "----------------------------------------------------------------------------------------------------\n",
      "C:\\Users\\oluwa\\Documents\\broadcast_logs\\BroadcastLogs_2018_Q3_M8.CSV\n",
      "C:\\Users\\oluwa\\Documents\\broadcast_logs\\BroadcastLogs_2018_Q3_M8_sample.CSV\n",
      "C:\\Users\\oluwa\\Documents\\broadcast_logs\\data dictionary.doc\n",
      "C:\\Users\\oluwa\\Documents\\broadcast_logs\\ReferenceTables\n"
     ]
    }
   ],
   "source": [
    "#%%bash\n",
    "\n",
    "#!ls DIRECTORY\n",
    "files = os.listdir(DIRECTORY)\n",
    "\n",
    "for f in files:\n",
    "    print(f)\n",
    "print(\"-\"*100)\n",
    "for f in files:\n",
    "    print(os.path.join(DIRECTORY, f))"
   ]
  },
  {
   "cell_type": "code",
   "execution_count": 6,
   "id": "774ed705-19c0-4097-97fb-f3ab5c290f68",
   "metadata": {
    "tags": []
   },
   "outputs": [],
   "source": [
    "logs = spark.read.csv(\n",
    "    os.path.join(DIRECTORY, \"BroadcastLogs_2018_Q3_M8.csv\"),\n",
    "    sep = \"|\",\n",
    "    header = True,\n",
    "    inferSchema = True,\n",
    "    timestampFormat = \"yyyy-MM-dd\",\n",
    ")"
   ]
  },
  {
   "cell_type": "code",
   "execution_count": null,
   "id": "4794cfb8-9645-4719-a20b-01027feecaf2",
   "metadata": {
    "jupyter": {
     "source_hidden": true
    },
    "tags": []
   },
   "outputs": [],
   "source": [
    "logs.printSchema()"
   ]
  },
  {
   "cell_type": "code",
   "execution_count": null,
   "id": "1cd90288-ec43-4706-87d2-1ded2e6105ec",
   "metadata": {
    "tags": []
   },
   "outputs": [],
   "source": [
    "logs.select(\"BroadcastLogID\", \"LogServiceID\", \"LogDate\").show(5, False)"
   ]
  }
 ],
 "metadata": {
  "kernelspec": {
   "display_name": "Python 3 (ipykernel)",
   "language": "python",
   "name": "python3"
  },
  "language_info": {
   "codemirror_mode": {
    "name": "ipython",
    "version": 3
   },
   "file_extension": ".py",
   "mimetype": "text/x-python",
   "name": "python",
   "nbconvert_exporter": "python",
   "pygments_lexer": "ipython3",
   "version": "3.9.16"
  }
 },
 "nbformat": 4,
 "nbformat_minor": 5
}
