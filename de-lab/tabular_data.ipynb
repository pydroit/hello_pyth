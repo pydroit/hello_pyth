{
 "cells": [
  {
   "cell_type": "code",
   "execution_count": 1,
   "id": "8a1886b8-5444-4df4-9a91-51611be1fd7d",
   "metadata": {
    "tags": []
   },
   "outputs": [],
   "source": [
    "import findspark\n",
    "findspark.init()"
   ]
  },
  {
   "cell_type": "code",
   "execution_count": 2,
   "id": "f7470326-efbd-4a56-b3c7-38c88896a419",
   "metadata": {
    "tags": []
   },
   "outputs": [],
   "source": [
    "from pyspark.sql import SparkSession\n",
    "\n",
    "spark = (SparkSession.builder.\n",
    "         appName(\"working with tabular data\").\n",
    "         getOrCreate())"
   ]
  },
  {
   "cell_type": "code",
   "execution_count": 3,
   "id": "123be6b8-c395-4a85-b84c-d1b9dc648e7d",
   "metadata": {
    "tags": []
   },
   "outputs": [],
   "source": [
    "import os\n",
    "import pyspark.sql.functions as F"
   ]
  },
  {
   "cell_type": "code",
   "execution_count": 10,
   "id": "74b386ce-603c-4525-8283-3016a86f4c02",
   "metadata": {
    "tags": []
   },
   "outputs": [],
   "source": [
    "DIRECTORY = r\"C:\\Users\\oluwa\\Documents\\broadcast_logs\""
   ]
  },
  {
   "cell_type": "code",
   "execution_count": 5,
   "id": "2b1687ec-7ac2-43d3-85ba-68c95ec651ff",
   "metadata": {
    "tags": []
   },
   "outputs": [
    {
     "name": "stdout",
     "output_type": "stream",
     "text": [
      "BroadcastLogs_2018_Q3_M8.CSV\n",
      "BroadcastLogs_2018_Q3_M8_sample.CSV\n",
      "data dictionary.doc\n",
      "ReferenceTables\n",
      "----------------------------------------------------------------------------------------------------\n",
      "C:\\Users\\oluwa\\Documents\\broadcast_logs\\BroadcastLogs_2018_Q3_M8.CSV\n",
      "C:\\Users\\oluwa\\Documents\\broadcast_logs\\BroadcastLogs_2018_Q3_M8_sample.CSV\n",
      "C:\\Users\\oluwa\\Documents\\broadcast_logs\\data dictionary.doc\n",
      "C:\\Users\\oluwa\\Documents\\broadcast_logs\\ReferenceTables\n"
     ]
    }
   ],
   "source": [
    "#%%bash\n",
    "\n",
    "#!ls DIRECTORY\n",
    "files = os.listdir(DIRECTORY)\n",
    "\n",
    "for f in files:\n",
    "    print(f)\n",
    "print(\"-\"*100)\n",
    "for f in files:\n",
    "    print(os.path.join(DIRECTORY, f))"
   ]
  },
  {
   "cell_type": "code",
   "execution_count": 7,
   "id": "774ed705-19c0-4097-97fb-f3ab5c290f68",
   "metadata": {
    "tags": []
   },
   "outputs": [],
   "source": [
    "logs = spark.read.csv(\n",
    "    os.path.join(DIRECTORY, \"BroadcastLogs_2018_Q3_M8.csv\"),\n",
    "    sep = \"|\",\n",
    "    header = True,\n",
    "    inferSchema = True,\n",
    "    timestampFormat = \"yyyy-MM-dd\",\n",
    ")"
   ]
  },
  {
   "cell_type": "code",
   "execution_count": 26,
   "id": "4794cfb8-9645-4719-a20b-01027feecaf2",
   "metadata": {
    "tags": []
   },
   "outputs": [
    {
     "name": "stdout",
     "output_type": "stream",
     "text": [
      "root\n",
      " |-- BroadcastLogID: integer (nullable = true)\n",
      " |-- LogServiceID: integer (nullable = true)\n",
      " |-- LogDate: timestamp (nullable = true)\n",
      " |-- SequenceNO: integer (nullable = true)\n",
      " |-- AudienceTargetAgeID: integer (nullable = true)\n",
      " |-- AudienceTargetEthnicID: integer (nullable = true)\n",
      " |-- CategoryID: integer (nullable = true)\n",
      " |-- ClosedCaptionID: integer (nullable = true)\n",
      " |-- CountryOfOriginID: integer (nullable = true)\n",
      " |-- DubDramaCreditID: integer (nullable = true)\n",
      " |-- EthnicProgramID: integer (nullable = true)\n",
      " |-- ProductionSourceID: integer (nullable = true)\n",
      " |-- ProgramClassID: integer (nullable = true)\n",
      " |-- FilmClassificationID: integer (nullable = true)\n",
      " |-- ExhibitionID: integer (nullable = true)\n",
      " |-- Duration: string (nullable = true)\n",
      " |-- EndTime: string (nullable = true)\n",
      " |-- LogEntryDate: timestamp (nullable = true)\n",
      " |-- ProductionNO: string (nullable = true)\n",
      " |-- ProgramTitle: string (nullable = true)\n",
      " |-- StartTime: string (nullable = true)\n",
      " |-- Subtitle: string (nullable = true)\n",
      " |-- NetworkAffiliationID: integer (nullable = true)\n",
      " |-- SpecialAttentionID: integer (nullable = true)\n",
      " |-- BroadcastOriginPointID: integer (nullable = true)\n",
      " |-- CompositionID: integer (nullable = true)\n",
      " |-- Producer1: string (nullable = true)\n",
      " |-- Producer2: string (nullable = true)\n",
      " |-- Language1: integer (nullable = true)\n",
      " |-- Language2: integer (nullable = true)\n",
      "\n"
     ]
    }
   ],
   "source": [
    "logs.printSchema()"
   ]
  }
 ],
 "metadata": {
  "kernelspec": {
   "display_name": "Python 3 (ipykernel)",
   "language": "python",
   "name": "python3"
  },
  "language_info": {
   "codemirror_mode": {
    "name": "ipython",
    "version": 3
   },
   "file_extension": ".py",
   "mimetype": "text/x-python",
   "name": "python",
   "nbconvert_exporter": "python",
   "pygments_lexer": "ipython3",
   "version": "3.9.0"
  }
 },
 "nbformat": 4,
 "nbformat_minor": 5
}
